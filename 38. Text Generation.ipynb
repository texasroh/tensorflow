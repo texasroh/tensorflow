{
 "cells": [
  {
   "cell_type": "code",
   "execution_count": 1,
   "metadata": {},
   "outputs": [],
   "source": [
    "import tensorflow as tf\n",
    "\n",
    "import numpy as np\n",
    "import os\n",
    "import time"
   ]
  },
  {
   "cell_type": "code",
   "execution_count": 2,
   "metadata": {},
   "outputs": [],
   "source": [
    "path_to_file = tf.keras.utils.get_file('shakespeare.txt', 'https://storage.googleapis.com/download.tensorflow.org/data/shakespeare.txt')"
   ]
  },
  {
   "cell_type": "code",
   "execution_count": 3,
   "metadata": {},
   "outputs": [
    {
     "name": "stdout",
     "output_type": "stream",
     "text": [
      "Text Length: 1115394\n"
     ]
    }
   ],
   "source": [
    "text = open(path_to_file, 'rb').read().decode(encoding='utf-8')\n",
    "print(\"Text Length: {}\".format(len(text)))"
   ]
  },
  {
   "cell_type": "code",
   "execution_count": 4,
   "metadata": {},
   "outputs": [
    {
     "name": "stdout",
     "output_type": "stream",
     "text": [
      "First Citizen:\n",
      "Before we proceed any further, hear me speak.\n",
      "\n",
      "All:\n",
      "Speak, speak.\n",
      "\n",
      "First Citizen:\n",
      "You are all resolved rather to die than to famish?\n",
      "\n",
      "All:\n",
      "Resolved. resolved.\n",
      "\n",
      "First Citizen:\n",
      "First, you know Caius Marcius is chief enemy to the people.\n",
      "\n"
     ]
    }
   ],
   "source": [
    "print(text[:250])"
   ]
  },
  {
   "cell_type": "code",
   "execution_count": 5,
   "metadata": {},
   "outputs": [
    {
     "name": "stdout",
     "output_type": "stream",
     "text": [
      "65 unique characters\n"
     ]
    }
   ],
   "source": [
    "vocab = sorted(set(text))\n",
    "print('{} unique characters'.format(len(vocab)))"
   ]
  },
  {
   "cell_type": "code",
   "execution_count": 6,
   "metadata": {},
   "outputs": [],
   "source": [
    "char2idx = {u:i for i, u in enumerate(vocab)}\n",
    "idx2char = np.array(vocab)\n",
    "\n",
    "text_as_int = np.array([char2idx[c] for c in text])"
   ]
  },
  {
   "cell_type": "code",
   "execution_count": 7,
   "metadata": {},
   "outputs": [
    {
     "name": "stdout",
     "output_type": "stream",
     "text": [
      "{\n",
      "    '\\n':   0,\n",
      "    ' ' :   1,\n",
      "    '!' :   2,\n",
      "    '$' :   3,\n",
      "    '&' :   4,\n",
      "    \"'\" :   5,\n",
      "    ',' :   6,\n",
      "    '-' :   7,\n",
      "    '.' :   8,\n",
      "    '3' :   9,\n",
      "    ':' :  10,\n",
      "    ';' :  11,\n",
      "    '?' :  12,\n",
      "    'A' :  13,\n",
      "    'B' :  14,\n",
      "    'C' :  15,\n",
      "    'D' :  16,\n",
      "    'E' :  17,\n",
      "    'F' :  18,\n",
      "    'G' :  19,\n",
      "    ...\n",
      "}\n"
     ]
    }
   ],
   "source": [
    "print('{')\n",
    "for char, _ in zip(char2idx, range(20)):\n",
    "    print('    {:4s}: {:3d},'.format(repr(char),char2idx[char]))\n",
    "print('    ...\\n}')"
   ]
  },
  {
   "cell_type": "code",
   "execution_count": 8,
   "metadata": {},
   "outputs": [
    {
     "name": "stdout",
     "output_type": "stream",
     "text": [
      "'First Citizen' ---- characters mapped to int ---- > [18 47 56 57 58  1 15 47 58 47 64 43 52]\n"
     ]
    }
   ],
   "source": [
    "print('{} ---- characters mapped to int ---- > {}'.format(repr(text[:13]), text_as_int[:13]))"
   ]
  },
  {
   "cell_type": "code",
   "execution_count": 9,
   "metadata": {},
   "outputs": [
    {
     "name": "stdout",
     "output_type": "stream",
     "text": [
      "F\n",
      "i\n",
      "r\n",
      "s\n",
      "t\n"
     ]
    }
   ],
   "source": [
    "seq_length = 100\n",
    "examples_per_epoch = len(text) // seq_length\n",
    "\n",
    "char_dataset = tf.data.Dataset.from_tensor_slices(text_as_int)\n",
    "\n",
    "for i in char_dataset.take(5):\n",
    "    print(idx2char[i.numpy()])"
   ]
  },
  {
   "cell_type": "code",
   "execution_count": 10,
   "metadata": {},
   "outputs": [
    {
     "name": "stdout",
     "output_type": "stream",
     "text": [
      "'First Citizen:\\nBefore we proceed any further, hear me speak.\\n\\nAll:\\nSpeak, speak.\\n\\nFirst Citizen:\\nYou '\n",
      "'are all resolved rather to die than to famish?\\n\\nAll:\\nResolved. resolved.\\n\\nFirst Citizen:\\nFirst, you k'\n",
      "\"now Caius Marcius is chief enemy to the people.\\n\\nAll:\\nWe know't, we know't.\\n\\nFirst Citizen:\\nLet us ki\"\n",
      "\"ll him, and we'll have corn at our own price.\\nIs't a verdict?\\n\\nAll:\\nNo more talking on't; let it be d\"\n",
      "'one: away, away!\\n\\nSecond Citizen:\\nOne word, good citizens.\\n\\nFirst Citizen:\\nWe are accounted poor citi'\n"
     ]
    }
   ],
   "source": [
    "sequences = char_dataset.batch(seq_length+1, drop_remainder=True)\n",
    "\n",
    "for item in sequences.take(5):\n",
    "    print(repr(''.join(idx2char[item.numpy()])))"
   ]
  },
  {
   "cell_type": "code",
   "execution_count": 11,
   "metadata": {},
   "outputs": [],
   "source": [
    "def split_input_target(chunk):\n",
    "    input_text = chunk[:-1]\n",
    "    target_text = chunk[1:]\n",
    "    return input_text, target_text\n",
    "\n",
    "dataset = sequences.map(split_input_target)"
   ]
  },
  {
   "cell_type": "code",
   "execution_count": 12,
   "metadata": {},
   "outputs": [
    {
     "name": "stdout",
     "output_type": "stream",
     "text": [
      "Input Data:  'First Citizen:\\nBefore we proceed any further, hear me speak.\\n\\nAll:\\nSpeak, speak.\\n\\nFirst Citizen:\\nYou'\n",
      "Target Data:  'irst Citizen:\\nBefore we proceed any further, hear me speak.\\n\\nAll:\\nSpeak, speak.\\n\\nFirst Citizen:\\nYou '\n"
     ]
    }
   ],
   "source": [
    "for input_example, target_example in dataset.take(1):\n",
    "    print('Input Data: ', repr(''.join(idx2char[input_example.numpy()])))\n",
    "    print('Target Data: ', repr(''.join(idx2char[target_example.numpy()])))"
   ]
  },
  {
   "cell_type": "code",
   "execution_count": 13,
   "metadata": {},
   "outputs": [
    {
     "name": "stdout",
     "output_type": "stream",
     "text": [
      "   0step\n",
      "    Input: 18 ('F')\n",
      "    Expected output: 47 ('i')\n",
      "   1step\n",
      "    Input: 47 ('i')\n",
      "    Expected output: 56 ('r')\n",
      "   2step\n",
      "    Input: 56 ('r')\n",
      "    Expected output: 57 ('s')\n",
      "   3step\n",
      "    Input: 57 ('s')\n",
      "    Expected output: 58 ('t')\n",
      "   4step\n",
      "    Input: 58 ('t')\n",
      "    Expected output: 1 (' ')\n"
     ]
    }
   ],
   "source": [
    "for i, (input_idx, target_idx) in enumerate(zip(input_example[:5], target_example[:5])):\n",
    "    print('{:4d}step'.format(i))\n",
    "    print(\"    Input: {} ({:s})\".format(input_idx, repr(idx2char[input_idx])))\n",
    "    print(\"    Expected output: {} ({:s})\".format(target_idx, repr(idx2char[target_idx])))"
   ]
  },
  {
   "cell_type": "code",
   "execution_count": 14,
   "metadata": {},
   "outputs": [
    {
     "data": {
      "text/plain": [
       "<BatchDataset shapes: ((64, 100), (64, 100)), types: (tf.int32, tf.int32)>"
      ]
     },
     "execution_count": 14,
     "metadata": {},
     "output_type": "execute_result"
    }
   ],
   "source": [
    "BATCH_SIZE = 64\n",
    "BUFFER_SIZE = 10000\n",
    "\n",
    "dataset = dataset.shuffle(BUFFER_SIZE).batch(BATCH_SIZE, drop_remainder=True)\n",
    "\n",
    "dataset"
   ]
  },
  {
   "cell_type": "code",
   "execution_count": 15,
   "metadata": {},
   "outputs": [],
   "source": [
    "vocab_size = len(vocab)\n",
    "\n",
    "embedding_dim = 256\n",
    "\n",
    "rnn_units = 1024"
   ]
  },
  {
   "cell_type": "code",
   "execution_count": 16,
   "metadata": {},
   "outputs": [],
   "source": [
    "def build_model(vocab_size, embedding_dim, rnn_units, batch_size):\n",
    "    model = tf.keras.Sequential([\n",
    "        tf.keras.layers.Embedding(vocab_size, embedding_dim,\n",
    "                                  batch_input_shape=[batch_size, None]),\n",
    "        tf.keras.layers.LSTM(rnn_units, return_sequences=True,\n",
    "                             stateful=True,\n",
    "                             recurrent_initializer='glorot_uniform'),\n",
    "        tf.keras.layers.Dense(vocab_size)\n",
    "    ])\n",
    "    return model"
   ]
  },
  {
   "cell_type": "code",
   "execution_count": 17,
   "metadata": {},
   "outputs": [],
   "source": [
    "model = build_model(\n",
    "    vocab_size = len(vocab),\n",
    "    embedding_dim = embedding_dim,\n",
    "    rnn_units=rnn_units,\n",
    "    batch_size=BATCH_SIZE\n",
    ")"
   ]
  },
  {
   "cell_type": "code",
   "execution_count": 18,
   "metadata": {},
   "outputs": [
    {
     "name": "stdout",
     "output_type": "stream",
     "text": [
      "(64, 100, 65) # (Batch size, Sequence length, vocab size)\n"
     ]
    }
   ],
   "source": [
    "with tf.device('cpu:0'):\n",
    "    for input_example_batch, target_example_batch in dataset.take(1):\n",
    "        example_batch_predictions = model(input_example_batch)\n",
    "        print(example_batch_predictions.shape, \"# (Batch size, Sequence length, vocab size)\")"
   ]
  },
  {
   "cell_type": "code",
   "execution_count": 19,
   "metadata": {},
   "outputs": [
    {
     "name": "stdout",
     "output_type": "stream",
     "text": [
      "Model: \"sequential\"\n",
      "_________________________________________________________________\n",
      "Layer (type)                 Output Shape              Param #   \n",
      "=================================================================\n",
      "embedding (Embedding)        (64, None, 256)           16640     \n",
      "_________________________________________________________________\n",
      "lstm (LSTM)                  (64, None, 1024)          5246976   \n",
      "_________________________________________________________________\n",
      "dense (Dense)                (64, None, 65)            66625     \n",
      "=================================================================\n",
      "Total params: 5,330,241\n",
      "Trainable params: 5,330,241\n",
      "Non-trainable params: 0\n",
      "_________________________________________________________________\n"
     ]
    }
   ],
   "source": [
    "model.summary()"
   ]
  },
  {
   "cell_type": "code",
   "execution_count": 20,
   "metadata": {},
   "outputs": [],
   "source": [
    "sampled_indices = tf.random.categorical(example_batch_predictions[0], num_samples=1)\n",
    "sampled_indices = tf.squeeze(sampled_indices,axis=-1).numpy()"
   ]
  },
  {
   "cell_type": "code",
   "execution_count": 21,
   "metadata": {},
   "outputs": [
    {
     "data": {
      "text/plain": [
       "array([59, 61, 13, 34, 38,  2, 57, 51, 20, 12, 11, 33,  6,  7, 58,  1,  4,\n",
       "        9, 10, 31, 54, 59, 26, 12, 39, 55,  6, 28, 45, 42, 60, 44, 30,  1,\n",
       "       21, 25, 53, 55, 46, 14, 34, 28, 53, 60, 57, 30, 22, 37, 24, 56, 61,\n",
       "        9, 24, 25, 53, 32,  0, 63, 19, 28,  3, 39, 60, 63,  0,  4, 63,  5,\n",
       "       47, 11, 19, 19, 64, 42, 21, 15, 43, 56, 20,  6, 56, 50, 33, 46, 25,\n",
       "       46, 40, 59, 46, 16, 32, 45, 46, 40, 15, 27, 58, 40, 11, 41],\n",
       "      dtype=int64)"
      ]
     },
     "execution_count": 21,
     "metadata": {},
     "output_type": "execute_result"
    }
   ],
   "source": [
    "sampled_indices"
   ]
  },
  {
   "cell_type": "code",
   "execution_count": 22,
   "metadata": {},
   "outputs": [
    {
     "name": "stdout",
     "output_type": "stream",
     "text": [
      "Input: \n",
      " ',\\nInfusing him with self and vain conceit,\\nAs if this flesh which walls about our life,\\nWere brass i'\n",
      "\n",
      "Predicted next char: \n",
      " \"uwAVZ!smH?;U,-t &3:SpuN?aq,PgdvfR IMoqhBVPovsRJYLrw3LMoT\\nyGP$avy\\n&y'i;GGzdICerH,rlUhMhbuhDTghbCOtb;c\"\n"
     ]
    }
   ],
   "source": [
    "print('Input: \\n', repr(''.join(idx2char[input_example_batch[0]])))\n",
    "print()\n",
    "print('Predicted next char: \\n', repr(''.join(idx2char[sampled_indices])))"
   ]
  },
  {
   "cell_type": "code",
   "execution_count": 23,
   "metadata": {},
   "outputs": [
    {
     "name": "stdout",
     "output_type": "stream",
     "text": [
      "Predicted array shape:  (64, 100, 65) #batch size, sequence length, vocab sizse\n",
      "Scalar Loss:            4.17377\n"
     ]
    }
   ],
   "source": [
    "def loss(labels, logits):\n",
    "    return tf.keras.losses.sparse_categorical_crossentropy(labels, logits, from_logits=True)\n",
    "\n",
    "example_batch_loss = loss(target_example_batch, example_batch_predictions)\n",
    "print('Predicted array shape: ', example_batch_predictions.shape, '#batch size, sequence length, vocab sizse')\n",
    "print('Scalar Loss:           ', example_batch_loss.numpy().mean())"
   ]
  },
  {
   "cell_type": "code",
   "execution_count": 24,
   "metadata": {},
   "outputs": [],
   "source": [
    "model.compile(optimizer='adam', loss=loss)"
   ]
  },
  {
   "cell_type": "code",
   "execution_count": 25,
   "metadata": {},
   "outputs": [],
   "source": [
    "checkpoint_dir = './training_checkpoints'\n",
    "checkpoint_prefix = os.path.join(checkpoint_dir, 'ckpt_{epoch}')\n",
    "\n",
    "checkpoint_callback = tf.keras.callbacks.ModelCheckpoint(\n",
    "    filepath = checkpoint_prefix,\n",
    "    save_weights_only=True\n",
    ")"
   ]
  },
  {
   "cell_type": "code",
   "execution_count": 26,
   "metadata": {},
   "outputs": [
    {
     "name": "stdout",
     "output_type": "stream",
     "text": [
      "Epoch 1/10\n",
      "172/172 [==============================] - 24s 138ms/step - loss: 2.5729\n",
      "Epoch 2/10\n",
      "172/172 [==============================] - 24s 140ms/step - loss: 1.8798\n",
      "Epoch 3/10\n",
      "172/172 [==============================] - 24s 142ms/step - loss: 1.6311\n",
      "Epoch 4/10\n",
      "172/172 [==============================] - 24s 142ms/step - loss: 1.4985\n",
      "Epoch 5/10\n",
      "172/172 [==============================] - 24s 141ms/step - loss: 1.4195\n",
      "Epoch 6/10\n",
      "172/172 [==============================] - 24s 141ms/step - loss: 1.3625\n",
      "Epoch 7/10\n",
      "172/172 [==============================] - 24s 141ms/step - loss: 1.3167\n",
      "Epoch 8/10\n",
      "172/172 [==============================] - 24s 141ms/step - loss: 1.2773\n",
      "Epoch 9/10\n",
      "172/172 [==============================] - 24s 141ms/step - loss: 1.2410\n",
      "Epoch 10/10\n",
      "172/172 [==============================] - 24s 142ms/step - loss: 1.2052\n"
     ]
    }
   ],
   "source": [
    "EPOCHS=10\n",
    "history = model.fit(dataset, epochs=EPOCHS, callbacks=[checkpoint_callback])"
   ]
  },
  {
   "cell_type": "code",
   "execution_count": 27,
   "metadata": {},
   "outputs": [
    {
     "data": {
      "text/plain": [
       "'./training_checkpoints\\\\ckpt_10'"
      ]
     },
     "execution_count": 27,
     "metadata": {},
     "output_type": "execute_result"
    }
   ],
   "source": [
    "tf.train.latest_checkpoint(checkpoint_dir)"
   ]
  },
  {
   "cell_type": "code",
   "execution_count": 28,
   "metadata": {},
   "outputs": [],
   "source": [
    "model = build_model(vocab_size, embedding_dim, rnn_units, batch_size=1)\n",
    "model.load_weights(tf.train.latest_checkpoint(checkpoint_dir))\n",
    "model.build(tf.TensorShape([1, None]))"
   ]
  },
  {
   "cell_type": "code",
   "execution_count": 29,
   "metadata": {},
   "outputs": [
    {
     "name": "stdout",
     "output_type": "stream",
     "text": [
      "Model: \"sequential_1\"\n",
      "_________________________________________________________________\n",
      "Layer (type)                 Output Shape              Param #   \n",
      "=================================================================\n",
      "embedding_1 (Embedding)      (1, None, 256)            16640     \n",
      "_________________________________________________________________\n",
      "lstm_1 (LSTM)                (1, None, 1024)           5246976   \n",
      "_________________________________________________________________\n",
      "dense_1 (Dense)              (1, None, 65)             66625     \n",
      "=================================================================\n",
      "Total params: 5,330,241\n",
      "Trainable params: 5,330,241\n",
      "Non-trainable params: 0\n",
      "_________________________________________________________________\n"
     ]
    }
   ],
   "source": [
    "model.summary()"
   ]
  },
  {
   "cell_type": "code",
   "execution_count": null,
   "metadata": {},
   "outputs": [],
   "source": []
  },
  {
   "cell_type": "code",
   "execution_count": null,
   "metadata": {},
   "outputs": [],
   "source": []
  },
  {
   "cell_type": "code",
   "execution_count": 32,
   "metadata": {},
   "outputs": [
    {
     "data": {
      "text/plain": [
       "<tf.Tensor: shape=(1, 7), dtype=int32, numpy=array([[30, 27, 25, 17, 27, 10,  1]])>"
      ]
     },
     "execution_count": 32,
     "metadata": {},
     "output_type": "execute_result"
    }
   ],
   "source": [
    "start_string=u'ROMEO: '\n",
    "input_eval= [char2idx[s] for s in start_string]\n",
    "input_eval = tf.expand_dims(input_eval, 0)\n",
    "input_eval"
   ]
  },
  {
   "cell_type": "code",
   "execution_count": 35,
   "metadata": {},
   "outputs": [
    {
     "data": {
      "text/plain": [
       "TensorShape([1, 7, 65])"
      ]
     },
     "execution_count": 35,
     "metadata": {},
     "output_type": "execute_result"
    }
   ],
   "source": [
    "predictions = model(input_eval)\n",
    "predictions.shape"
   ]
  },
  {
   "cell_type": "code",
   "execution_count": 37,
   "metadata": {},
   "outputs": [
    {
     "data": {
      "text/plain": [
       "TensorShape([7, 65])"
      ]
     },
     "execution_count": 37,
     "metadata": {},
     "output_type": "execute_result"
    }
   ],
   "source": [
    "predictions = tf.squeeze(predictions,0)\n",
    "predictions.shape"
   ]
  },
  {
   "cell_type": "code",
   "execution_count": 50,
   "metadata": {},
   "outputs": [
    {
     "name": "stdout",
     "output_type": "stream",
     "text": [
      "tf.Tensor(\n",
      "[[27]\n",
      " [26]\n",
      " [26]\n",
      " [26]\n",
      " [26]\n",
      " [26]\n",
      " [24]], shape=(7, 1), dtype=int64)\n",
      "24\n"
     ]
    }
   ],
   "source": [
    "predicted_id = tf.random.categorical(predictions, num_samples=1)\n",
    "print(predicted_id)\n",
    "predicted_id = predicted_id[-1,0].numpy()\n",
    "print(predicted_id)"
   ]
  },
  {
   "cell_type": "code",
   "execution_count": 52,
   "metadata": {},
   "outputs": [
    {
     "data": {
      "text/plain": [
       "<tf.Tensor: shape=(1, 1, 65), dtype=float32, numpy=\n",
       "array([[[-1.7272413 , -1.2574241 , -0.72170895,  0.71675956,\n",
       "          0.60398984, -1.8925035 , -0.9863711 , -3.1031492 ,\n",
       "         -1.4229251 ,  1.8642952 ,  1.3056587 , -1.4313487 ,\n",
       "         -0.9156358 ,  6.4796343 ,  3.976162  ,  2.4540565 ,\n",
       "          2.5839133 ,  5.8690267 ,  2.417949  ,  3.4565592 ,\n",
       "          1.4969034 ,  5.0612116 ,  1.0864896 ,  2.0171728 ,\n",
       "          3.6579578 ,  4.17151   ,  3.4925382 ,  5.2435865 ,\n",
       "          0.87655765,  0.88971865,  3.6698987 ,  4.727582  ,\n",
       "          1.4713666 ,  5.5417194 ,  1.4050274 ,  2.9742107 ,\n",
       "          1.2784101 ,  5.0737596 ,  1.2665923 ,  0.72328067,\n",
       "         -2.3066692 , -5.9606366 , -0.6483144 ,  0.12849848,\n",
       "         -3.7022803 , -4.303837  , -3.580127  ,  0.4032501 ,\n",
       "         -1.810353  , -2.556422  , -1.2360313 , -2.5044863 ,\n",
       "         -3.708578  ,  3.0261848 , -2.54353   , -2.5371032 ,\n",
       "         -1.7329506 , -4.189733  , -5.266301  ,  2.124294  ,\n",
       "         -1.9931201 , -2.6665618 , -0.5265711 ,  1.1665351 ,\n",
       "         -1.981841  ]]], dtype=float32)>"
      ]
     },
     "execution_count": 52,
     "metadata": {},
     "output_type": "execute_result"
    }
   ],
   "source": [
    "input_eval = tf.expand_dims([predicted_id], 0)\n",
    "model(input_eval)"
   ]
  },
  {
   "cell_type": "code",
   "execution_count": 55,
   "metadata": {},
   "outputs": [],
   "source": [
    "def generate_text(model, start_string):\n",
    "    num_generate = 1000\n",
    "    input_eval = [char2idx[s] for s in start_string]\n",
    "    input_eval = tf.expand_dims(input_eval, 0)\n",
    "    \n",
    "    text_generated = []\n",
    "    \n",
    "    temperature = 1.0\n",
    "    \n",
    "    model.reset_states()\n",
    "    for i in range(num_generate):\n",
    "        predictions = model(input_eval)\n",
    "        predictions = tf.squeeze(predictions, 0)\n",
    "        predictions = predictions / temperature\n",
    "        predicted_id = tf.random.categorical(predictions, num_samples=1)[-1, 0].numpy()\n",
    "        \n",
    "        input_eval = tf.expand_dims([predicted_id], 0)\n",
    "        \n",
    "        text_generated.append(idx2char[predicted_id])\n",
    "        \n",
    "    return (start_string + ''.join(text_generated))"
   ]
  },
  {
   "cell_type": "code",
   "execution_count": 56,
   "metadata": {},
   "outputs": [
    {
     "name": "stdout",
     "output_type": "stream",
     "text": [
      "1007\n",
      "ROMEO: KTARS:\n",
      "\n",
      "NCATKA:\n",
      "Ay, die these knees whose courties's bosom\n",
      "A noble heer; when I am call'd would\n",
      "your accurterch! This laudful shame mngot of\n",
      "these houses. Sag me; follows.\n",
      "\n",
      "CAPULET:\n",
      "Cut them for you: for I come all in that:\n",
      "Therefore how sast your son, sir; O\n",
      "Pompey! friar, I fear, to take thy credent I hither\n",
      "indeed, and mine or kind and noise a lady's blood,\n",
      "With many execution of my foesween I am no talk.\n",
      "\n",
      "CAMILLO:\n",
      "I am the report, suse me, wife Richard Clarence, down my lord?\n",
      "\n",
      "KING RICHARD II:\n",
      "That had she serve him of the chastial pifit him;\n",
      "Resquaching lights, back; and it is less\n",
      "ere you would dissembling stirrs to my true.\n",
      "Wilt thither where unendured men\n",
      "You ploud me to none entreaty\n",
      "Amen struck then a doven;\n",
      "And, and abuse my call, lady, and femplars,\n",
      "A measure farewell mercy with some head\n",
      "And that bear me will not that: you joy himself?\n",
      "'Tis said, my lord, werrick, sir, respected in this worst, hail,\n",
      "Upon my blood, the pitiful undown dissemple\n",
      "Towerhold all of his threaty; \n"
     ]
    }
   ],
   "source": [
    "result = generate_text(model, start_string=u'ROMEO: ')\n",
    "print(len(result))\n",
    "print(result)\n"
   ]
  },
  {
   "cell_type": "code",
   "execution_count": null,
   "metadata": {},
   "outputs": [],
   "source": []
  },
  {
   "cell_type": "code",
   "execution_count": null,
   "metadata": {},
   "outputs": [],
   "source": []
  },
  {
   "cell_type": "code",
   "execution_count": null,
   "metadata": {},
   "outputs": [],
   "source": []
  },
  {
   "cell_type": "code",
   "execution_count": 137,
   "metadata": {},
   "outputs": [
    {
     "name": "stdout",
     "output_type": "stream",
     "text": [
      "WARNING:tensorflow:Unresolved object in checkpoint: (root).optimizer\n",
      "WARNING:tensorflow:Unresolved object in checkpoint: (root).optimizer.iter\n",
      "WARNING:tensorflow:Unresolved object in checkpoint: (root).optimizer.beta_1\n",
      "WARNING:tensorflow:Unresolved object in checkpoint: (root).optimizer.beta_2\n",
      "WARNING:tensorflow:Unresolved object in checkpoint: (root).optimizer.decay\n",
      "WARNING:tensorflow:Unresolved object in checkpoint: (root).optimizer.learning_rate\n",
      "WARNING:tensorflow:Unresolved object in checkpoint: (root).optimizer's state 'm' for (root).layer_with_weights-0.embeddings\n",
      "WARNING:tensorflow:Unresolved object in checkpoint: (root).optimizer's state 'm' for (root).layer_with_weights-2.kernel\n",
      "WARNING:tensorflow:Unresolved object in checkpoint: (root).optimizer's state 'm' for (root).layer_with_weights-2.bias\n",
      "WARNING:tensorflow:Unresolved object in checkpoint: (root).optimizer's state 'm' for (root).layer_with_weights-1.cell.kernel\n",
      "WARNING:tensorflow:Unresolved object in checkpoint: (root).optimizer's state 'm' for (root).layer_with_weights-1.cell.recurrent_kernel\n",
      "WARNING:tensorflow:Unresolved object in checkpoint: (root).optimizer's state 'm' for (root).layer_with_weights-1.cell.bias\n",
      "WARNING:tensorflow:Unresolved object in checkpoint: (root).optimizer's state 'v' for (root).layer_with_weights-0.embeddings\n",
      "WARNING:tensorflow:Unresolved object in checkpoint: (root).optimizer's state 'v' for (root).layer_with_weights-2.kernel\n",
      "WARNING:tensorflow:Unresolved object in checkpoint: (root).optimizer's state 'v' for (root).layer_with_weights-2.bias\n",
      "WARNING:tensorflow:Unresolved object in checkpoint: (root).optimizer's state 'v' for (root).layer_with_weights-1.cell.kernel\n",
      "WARNING:tensorflow:Unresolved object in checkpoint: (root).optimizer's state 'v' for (root).layer_with_weights-1.cell.recurrent_kernel\n",
      "WARNING:tensorflow:Unresolved object in checkpoint: (root).optimizer's state 'v' for (root).layer_with_weights-1.cell.bias\n",
      "WARNING:tensorflow:A checkpoint was restored (e.g. tf.train.Checkpoint.restore or tf.keras.Model.load_weights) but not all checkpointed values were used. See above for specific issues. Use expect_partial() on the load status object, e.g. tf.train.Checkpoint.restore(...).expect_partial(), to silence these warnings, or use assert_consumed() to make the check explicit. See https://www.tensorflow.org/guide/checkpoint#loading_mechanics for details.\n"
     ]
    }
   ],
   "source": [
    "model = build_model(\n",
    "    vocab_size = len(vocab),\n",
    "    embedding_dim = embedding_dim,\n",
    "    rnn_units=rnn_units,\n",
    "    batch_size = BATCH_SIZE\n",
    ")"
   ]
  },
  {
   "cell_type": "code",
   "execution_count": 138,
   "metadata": {},
   "outputs": [],
   "source": [
    "optimizer = tf.keras.optimizers.Adam()"
   ]
  },
  {
   "cell_type": "code",
   "execution_count": 139,
   "metadata": {},
   "outputs": [],
   "source": [
    "@tf.function\n",
    "def train_step(inp, target):\n",
    "    with tf.GradientTape() as tape:\n",
    "        predictions = model(inp)\n",
    "        loss = tf.reduce_mean(\n",
    "            tf.keras.losses.sparse_categorical_crossentropy(\n",
    "                target, predictions, from_logits=True\n",
    "            )\n",
    "        )\n",
    "    grads = tape.gradient(loss, model.trainable_variables)\n",
    "    optimizer.apply_gradients(zip(grads, model.trainable_variables))\n",
    "    \n",
    "    return loss"
   ]
  },
  {
   "cell_type": "code",
   "execution_count": 140,
   "metadata": {},
   "outputs": [
    {
     "name": "stdout",
     "output_type": "stream",
     "text": [
      "Epoch 1 Batch 0 Loss 4.174795150756836\n",
      "Epoch 1 Batch 100 Loss 2.3201682567596436\n",
      "Epoch 1 Loss 2.0595\n",
      "28.870805501937866 seconds per 1 Epoch\n",
      "Epoch 2 Batch 0 Loss 2.0655455589294434\n",
      "Epoch 2 Batch 100 Loss 1.8349605798721313\n",
      "Epoch 2 Loss 1.7293\n",
      "26.76218557357788 seconds per 1 Epoch\n",
      "Epoch 3 Batch 0 Loss 1.7068895101547241\n",
      "Epoch 3 Batch 100 Loss 1.5943655967712402\n",
      "Epoch 3 Loss 1.5465\n",
      "26.854443550109863 seconds per 1 Epoch\n",
      "Epoch 4 Batch 0 Loss 1.5381665229797363\n",
      "Epoch 4 Batch 100 Loss 1.4727193117141724\n",
      "Epoch 4 Loss 1.4816\n",
      "26.8249990940094 seconds per 1 Epoch\n",
      "Epoch 5 Batch 0 Loss 1.4253158569335938\n",
      "Epoch 5 Batch 100 Loss 1.4020183086395264\n",
      "Epoch 5 Loss 1.3890\n",
      "27.07475519180298 seconds per 1 Epoch\n",
      "Epoch 6 Batch 0 Loss 1.3564867973327637\n",
      "Epoch 6 Batch 100 Loss 1.3611595630645752\n",
      "Epoch 6 Loss 1.3321\n",
      "26.7163143157959 seconds per 1 Epoch\n",
      "Epoch 7 Batch 0 Loss 1.2596545219421387\n",
      "Epoch 7 Batch 100 Loss 1.2989153861999512\n",
      "Epoch 7 Loss 1.3377\n",
      "26.91620707511902 seconds per 1 Epoch\n",
      "Epoch 8 Batch 0 Loss 1.245837688446045\n",
      "Epoch 8 Batch 100 Loss 1.23307466506958\n",
      "Epoch 8 Loss 1.2768\n",
      "26.945443630218506 seconds per 1 Epoch\n",
      "Epoch 9 Batch 0 Loss 1.1927865743637085\n",
      "Epoch 9 Batch 100 Loss 1.248754620552063\n",
      "Epoch 9 Loss 1.2297\n",
      "27.039445877075195 seconds per 1 Epoch\n",
      "Epoch 10 Batch 0 Loss 1.1846375465393066\n",
      "Epoch 10 Batch 100 Loss 1.2164430618286133\n",
      "Epoch 10 Loss 1.2031\n",
      "27.049483060836792 seconds per 1 Epoch\n"
     ]
    }
   ],
   "source": [
    "EPOCHS = 10\n",
    "\n",
    "for epoch in range(EPOCHS):\n",
    "    start = time.time()\n",
    "    \n",
    "    hidden = model.reset_states()\n",
    "    \n",
    "    for(batch_n, (inp,target)) in enumerate(dataset):\n",
    "        loss = train_step(inp, target)\n",
    "        \n",
    "        if batch_n % 100 == 0:\n",
    "            template = 'Epoch {} Batch {} Loss {}'\n",
    "            print(template.format(epoch+1, batch_n, loss))\n",
    "            \n",
    "    if (epoch + 1) % 5 == 0:\n",
    "        model.save_weights(checkpoint_prefix.format(epoch=epoch))\n",
    "        \n",
    "    print('Epoch {} Loss {:.4f}'.format(epoch+1, loss))\n",
    "    print('{} seconds per 1 Epoch'.format(time.time() - start))\n",
    "    \n",
    "model.save_weights(checkpoint_prefix.format(epoch=epoch))"
   ]
  },
  {
   "cell_type": "code",
   "execution_count": null,
   "metadata": {},
   "outputs": [],
   "source": []
  }
 ],
 "metadata": {
  "kernelspec": {
   "display_name": "Python 3",
   "language": "python",
   "name": "python3"
  },
  "language_info": {
   "codemirror_mode": {
    "name": "ipython",
    "version": 3
   },
   "file_extension": ".py",
   "mimetype": "text/x-python",
   "name": "python",
   "nbconvert_exporter": "python",
   "pygments_lexer": "ipython3",
   "version": "3.7.7"
  }
 },
 "nbformat": 4,
 "nbformat_minor": 4
}
