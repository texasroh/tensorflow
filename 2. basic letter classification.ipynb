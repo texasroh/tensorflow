{
 "cells": [
  {
   "cell_type": "code",
   "execution_count": 1,
   "metadata": {},
   "outputs": [
    {
     "name": "stdout",
     "output_type": "stream",
     "text": [
      "2.4.0\n"
     ]
    }
   ],
   "source": [
    "import tensorflow as tf\n",
    "from tensorflow import keras\n",
    "\n",
    "import numpy as np\n",
    "\n",
    "print(tf.__version__)"
   ]
  },
  {
   "cell_type": "code",
   "execution_count": 2,
   "metadata": {},
   "outputs": [
    {
     "name": "stderr",
     "output_type": "stream",
     "text": [
      "<string>:6: VisibleDeprecationWarning: Creating an ndarray from ragged nested sequences (which is a list-or-tuple of lists-or-tuples-or ndarrays with different lengths or shapes) is deprecated. If you meant to do this, you must specify 'dtype=object' when creating the ndarray\n",
      "c:\\workspace\\python\\project1\\lib\\site-packages\\tensorflow\\python\\keras\\datasets\\imdb.py:159: VisibleDeprecationWarning: Creating an ndarray from ragged nested sequences (which is a list-or-tuple of lists-or-tuples-or ndarrays with different lengths or shapes) is deprecated. If you meant to do this, you must specify 'dtype=object' when creating the ndarray\n",
      "  x_train, y_train = np.array(xs[:idx]), np.array(labels[:idx])\n",
      "c:\\workspace\\python\\project1\\lib\\site-packages\\tensorflow\\python\\keras\\datasets\\imdb.py:160: VisibleDeprecationWarning: Creating an ndarray from ragged nested sequences (which is a list-or-tuple of lists-or-tuples-or ndarrays with different lengths or shapes) is deprecated. If you meant to do this, you must specify 'dtype=object' when creating the ndarray\n",
      "  x_test, y_test = np.array(xs[idx:]), np.array(labels[idx:])\n"
     ]
    }
   ],
   "source": [
    "imdb = keras.datasets.imdb\n",
    "\n",
    "(train_data, train_labels), (test_data, test_labels) = imdb.load_data(num_words=10000)"
   ]
  },
  {
   "cell_type": "code",
   "execution_count": 3,
   "metadata": {},
   "outputs": [
    {
     "name": "stdout",
     "output_type": "stream",
     "text": [
      "훈련 샘플: 25000, 레이블: 25000\n"
     ]
    }
   ],
   "source": [
    "print(\"훈련 샘플: {}, 레이블: {}\".format(len(train_data), len(train_labels)))"
   ]
  },
  {
   "cell_type": "code",
   "execution_count": 4,
   "metadata": {},
   "outputs": [
    {
     "name": "stdout",
     "output_type": "stream",
     "text": [
      "[1, 14, 22, 16, 43, 530, 973, 1622, 1385, 65, 458, 4468, 66, 3941, 4, 173, 36, 256, 5, 25, 100, 43, 838, 112, 50, 670, 2, 9, 35, 480, 284, 5, 150, 4, 172, 112, 167, 2, 336, 385, 39, 4, 172, 4536, 1111, 17, 546, 38, 13, 447, 4, 192, 50, 16, 6, 147, 2025, 19, 14, 22, 4, 1920, 4613, 469, 4, 22, 71, 87, 12, 16, 43, 530, 38, 76, 15, 13, 1247, 4, 22, 17, 515, 17, 12, 16, 626, 18, 2, 5, 62, 386, 12, 8, 316, 8, 106, 5, 4, 2223, 5244, 16, 480, 66, 3785, 33, 4, 130, 12, 16, 38, 619, 5, 25, 124, 51, 36, 135, 48, 25, 1415, 33, 6, 22, 12, 215, 28, 77, 52, 5, 14, 407, 16, 82, 2, 8, 4, 107, 117, 5952, 15, 256, 4, 2, 7, 3766, 5, 723, 36, 71, 43, 530, 476, 26, 400, 317, 46, 7, 4, 2, 1029, 13, 104, 88, 4, 381, 15, 297, 98, 32, 2071, 56, 26, 141, 6, 194, 7486, 18, 4, 226, 22, 21, 134, 476, 26, 480, 5, 144, 30, 5535, 18, 51, 36, 28, 224, 92, 25, 104, 4, 226, 65, 16, 38, 1334, 88, 12, 16, 283, 5, 16, 4472, 113, 103, 32, 15, 16, 5345, 19, 178, 32]\n"
     ]
    }
   ],
   "source": [
    "print(train_data[0])"
   ]
  },
  {
   "cell_type": "code",
   "execution_count": 5,
   "metadata": {},
   "outputs": [
    {
     "data": {
      "text/plain": [
       "(218, 189)"
      ]
     },
     "execution_count": 5,
     "metadata": {},
     "output_type": "execute_result"
    }
   ],
   "source": [
    "len(train_data[0]), len(train_data[1])"
   ]
  },
  {
   "cell_type": "code",
   "execution_count": 6,
   "metadata": {},
   "outputs": [],
   "source": [
    "# 단어와 정수 인덱스를 매핑한 딕셔너리\n",
    "word_index = imdb.get_word_index()\n",
    "\n",
    "# 처음 몇 개 인덱스는 사전에 정의되어 있습니다\n",
    "word_index = {k:(v+3) for k,v in word_index.items()}\n",
    "word_index[\"<PAD>\"] = 0\n",
    "word_index[\"<START>\"] = 1\n",
    "word_index[\"<UNK>\"] = 2  # unknown\n",
    "word_index[\"<UNUSED>\"] = 3\n",
    "\n",
    "reverse_word_index = dict([(value, key) for (key, value) in word_index.items()])\n",
    "\n",
    "def decode_review(text):\n",
    "    return ' '.join([reverse_word_index.get(i, '?') for i in text])"
   ]
  },
  {
   "cell_type": "code",
   "execution_count": 7,
   "metadata": {},
   "outputs": [
    {
     "data": {
      "text/plain": [
       "\"<START> this film was just brilliant casting location scenery story direction everyone's really suited the part they played and you could just imagine being there robert <UNK> is an amazing actor and now the same being director <UNK> father came from the same scottish island as myself so i loved the fact there was a real connection with this film the witty remarks throughout the film were great it was just brilliant so much that i bought the film as soon as it was released for <UNK> and would recommend it to everyone to watch and the fly fishing was amazing really cried at the end it was so sad and you know what they say if you cry at a film it must have been good and this definitely was also <UNK> to the two little boy's that played the <UNK> of norman and paul they were just brilliant children are often left out of the <UNK> list i think because the stars that play them all grown up are such a big profile for the whole film but these children are amazing and should be praised for what they have done don't you think the whole story was so lovely because it was true and was someone's life after all that was shared with us all\""
      ]
     },
     "execution_count": 7,
     "metadata": {},
     "output_type": "execute_result"
    }
   ],
   "source": [
    "decode_review(train_data[0])"
   ]
  },
  {
   "cell_type": "code",
   "execution_count": 9,
   "metadata": {},
   "outputs": [],
   "source": [
    "train_data = keras.preprocessing.sequence.pad_sequences(train_data,\n",
    "                                                        value=word_index[\"<PAD>\"],\n",
    "                                                        padding='post',\n",
    "                                                        maxlen=256)\n",
    "test_data = keras.preprocessing.sequence.pad_sequences(test_data,\n",
    "                                                       value=word_index['<PAD>'],\n",
    "                                                       padding = 'post',\n",
    "                                                       maxlen=256)"
   ]
  },
  {
   "cell_type": "code",
   "execution_count": 10,
   "metadata": {},
   "outputs": [
    {
     "data": {
      "text/plain": [
       "(256, 256)"
      ]
     },
     "execution_count": 10,
     "metadata": {},
     "output_type": "execute_result"
    }
   ],
   "source": [
    "len(train_data[0]), len(train_data[1])"
   ]
  },
  {
   "cell_type": "code",
   "execution_count": 11,
   "metadata": {},
   "outputs": [
    {
     "name": "stdout",
     "output_type": "stream",
     "text": [
      "[   1   14   22   16   43  530  973 1622 1385   65  458 4468   66 3941\n",
      "    4  173   36  256    5   25  100   43  838  112   50  670    2    9\n",
      "   35  480  284    5  150    4  172  112  167    2  336  385   39    4\n",
      "  172 4536 1111   17  546   38   13  447    4  192   50   16    6  147\n",
      " 2025   19   14   22    4 1920 4613  469    4   22   71   87   12   16\n",
      "   43  530   38   76   15   13 1247    4   22   17  515   17   12   16\n",
      "  626   18    2    5   62  386   12    8  316    8  106    5    4 2223\n",
      " 5244   16  480   66 3785   33    4  130   12   16   38  619    5   25\n",
      "  124   51   36  135   48   25 1415   33    6   22   12  215   28   77\n",
      "   52    5   14  407   16   82    2    8    4  107  117 5952   15  256\n",
      "    4    2    7 3766    5  723   36   71   43  530  476   26  400  317\n",
      "   46    7    4    2 1029   13  104   88    4  381   15  297   98   32\n",
      " 2071   56   26  141    6  194 7486   18    4  226   22   21  134  476\n",
      "   26  480    5  144   30 5535   18   51   36   28  224   92   25  104\n",
      "    4  226   65   16   38 1334   88   12   16  283    5   16 4472  113\n",
      "  103   32   15   16 5345   19  178   32    0    0    0    0    0    0\n",
      "    0    0    0    0    0    0    0    0    0    0    0    0    0    0\n",
      "    0    0    0    0    0    0    0    0    0    0    0    0    0    0\n",
      "    0    0    0    0]\n"
     ]
    }
   ],
   "source": [
    "print(train_data[0])"
   ]
  },
  {
   "cell_type": "code",
   "execution_count": 13,
   "metadata": {},
   "outputs": [
    {
     "name": "stdout",
     "output_type": "stream",
     "text": [
      "Model: \"sequential_1\"\n",
      "_________________________________________________________________\n",
      "Layer (type)                 Output Shape              Param #   \n",
      "=================================================================\n",
      "embedding_1 (Embedding)      (None, None, 16)          160000    \n",
      "_________________________________________________________________\n",
      "global_average_pooling1d_1 ( (None, 16)                0         \n",
      "_________________________________________________________________\n",
      "dense_1 (Dense)              (None, 16)                272       \n",
      "_________________________________________________________________\n",
      "dense_2 (Dense)              (None, 1)                 17        \n",
      "=================================================================\n",
      "Total params: 160,289\n",
      "Trainable params: 160,289\n",
      "Non-trainable params: 0\n",
      "_________________________________________________________________\n"
     ]
    }
   ],
   "source": [
    "vocab_size = 10000\n",
    "\n",
    "model = keras.Sequential()\n",
    "model.add(keras.layers.Embedding(vocab_size, 16, input_shape=(None,)))\n",
    "model.add(keras.layers.GlobalAveragePooling1D())\n",
    "model.add(keras.layers.Dense(16, activation='relu'))\n",
    "model.add(keras.layers.Dense(1, activation='sigmoid'))\n",
    "\n",
    "model.summary()"
   ]
  },
  {
   "cell_type": "code",
   "execution_count": 14,
   "metadata": {},
   "outputs": [],
   "source": [
    "model.compile(optimizer='adam', loss='binary_crossentropy', metrics=['accuracy'])"
   ]
  },
  {
   "cell_type": "code",
   "execution_count": 15,
   "metadata": {},
   "outputs": [],
   "source": [
    "x_val = train_data[:10000]\n",
    "partial_x_train = train_data[10000:]\n",
    "y_val = train_labels[:10000]\n",
    "partial_y_train = train_labels[10000:]"
   ]
  },
  {
   "cell_type": "code",
   "execution_count": 16,
   "metadata": {},
   "outputs": [
    {
     "name": "stdout",
     "output_type": "stream",
     "text": [
      "Epoch 1/40\n",
      "30/30 [==============================] - 1s 19ms/step - loss: 0.6930 - accuracy: 0.5175 - val_loss: 0.6907 - val_accuracy: 0.5515\n",
      "Epoch 2/40\n",
      "30/30 [==============================] - 0s 12ms/step - loss: 0.6889 - accuracy: 0.5540 - val_loss: 0.6841 - val_accuracy: 0.6567\n",
      "Epoch 3/40\n",
      "30/30 [==============================] - 0s 12ms/step - loss: 0.6799 - accuracy: 0.6835 - val_loss: 0.6703 - val_accuracy: 0.7549\n",
      "Epoch 4/40\n",
      "30/30 [==============================] - 0s 13ms/step - loss: 0.6628 - accuracy: 0.7666 - val_loss: 0.6486 - val_accuracy: 0.7626\n",
      "Epoch 5/40\n",
      "30/30 [==============================] - 0s 12ms/step - loss: 0.6358 - accuracy: 0.7883 - val_loss: 0.6182 - val_accuracy: 0.7823\n",
      "Epoch 6/40\n",
      "30/30 [==============================] - 0s 13ms/step - loss: 0.6001 - accuracy: 0.8012 - val_loss: 0.5803 - val_accuracy: 0.7947\n",
      "Epoch 7/40\n",
      "30/30 [==============================] - 0s 12ms/step - loss: 0.5564 - accuracy: 0.8192 - val_loss: 0.5380 - val_accuracy: 0.8145\n",
      "Epoch 8/40\n",
      "30/30 [==============================] - 0s 12ms/step - loss: 0.5108 - accuracy: 0.8394 - val_loss: 0.4964 - val_accuracy: 0.8280\n",
      "Epoch 9/40\n",
      "30/30 [==============================] - 0s 12ms/step - loss: 0.4650 - accuracy: 0.8488 - val_loss: 0.4583 - val_accuracy: 0.8398\n",
      "Epoch 10/40\n",
      "30/30 [==============================] - 0s 12ms/step - loss: 0.4231 - accuracy: 0.8680 - val_loss: 0.4262 - val_accuracy: 0.8476\n",
      "Epoch 11/40\n",
      "30/30 [==============================] - 0s 13ms/step - loss: 0.3854 - accuracy: 0.8782 - val_loss: 0.3988 - val_accuracy: 0.8549\n",
      "Epoch 12/40\n",
      "30/30 [==============================] - 0s 13ms/step - loss: 0.3547 - accuracy: 0.8844 - val_loss: 0.3770 - val_accuracy: 0.8616\n",
      "Epoch 13/40\n",
      "30/30 [==============================] - 0s 12ms/step - loss: 0.3296 - accuracy: 0.8891 - val_loss: 0.3594 - val_accuracy: 0.8672\n",
      "Epoch 14/40\n",
      "30/30 [==============================] - 0s 13ms/step - loss: 0.3056 - accuracy: 0.8974 - val_loss: 0.3453 - val_accuracy: 0.8692\n",
      "Epoch 15/40\n",
      "30/30 [==============================] - 0s 13ms/step - loss: 0.2855 - accuracy: 0.9032 - val_loss: 0.3336 - val_accuracy: 0.8735\n",
      "Epoch 16/40\n",
      "30/30 [==============================] - 0s 13ms/step - loss: 0.2694 - accuracy: 0.9109 - val_loss: 0.3241 - val_accuracy: 0.8748\n",
      "Epoch 17/40\n",
      "30/30 [==============================] - 0s 13ms/step - loss: 0.2554 - accuracy: 0.9139 - val_loss: 0.3161 - val_accuracy: 0.8777\n",
      "Epoch 18/40\n",
      "30/30 [==============================] - 0s 13ms/step - loss: 0.2503 - accuracy: 0.9137 - val_loss: 0.3099 - val_accuracy: 0.8779\n",
      "Epoch 19/40\n",
      "30/30 [==============================] - 0s 12ms/step - loss: 0.2334 - accuracy: 0.9200 - val_loss: 0.3041 - val_accuracy: 0.8795\n",
      "Epoch 20/40\n",
      "30/30 [==============================] - 0s 13ms/step - loss: 0.2268 - accuracy: 0.9236 - val_loss: 0.3012 - val_accuracy: 0.8820\n",
      "Epoch 21/40\n",
      "30/30 [==============================] - 0s 13ms/step - loss: 0.2203 - accuracy: 0.9205 - val_loss: 0.2960 - val_accuracy: 0.8823\n",
      "Epoch 22/40\n",
      "30/30 [==============================] - 0s 12ms/step - loss: 0.2062 - accuracy: 0.9312 - val_loss: 0.2936 - val_accuracy: 0.8830\n",
      "Epoch 23/40\n",
      "30/30 [==============================] - 0s 13ms/step - loss: 0.1939 - accuracy: 0.9358 - val_loss: 0.2913 - val_accuracy: 0.8835\n",
      "Epoch 24/40\n",
      "30/30 [==============================] - 0s 13ms/step - loss: 0.1884 - accuracy: 0.9333 - val_loss: 0.2890 - val_accuracy: 0.8847\n",
      "Epoch 25/40\n",
      "30/30 [==============================] - 0s 14ms/step - loss: 0.1775 - accuracy: 0.9427 - val_loss: 0.2882 - val_accuracy: 0.8841\n",
      "Epoch 26/40\n",
      "30/30 [==============================] - 0s 14ms/step - loss: 0.1733 - accuracy: 0.9425 - val_loss: 0.2867 - val_accuracy: 0.8849\n",
      "Epoch 27/40\n",
      "30/30 [==============================] - 0s 13ms/step - loss: 0.1663 - accuracy: 0.9464 - val_loss: 0.2867 - val_accuracy: 0.8847\n",
      "Epoch 28/40\n",
      "30/30 [==============================] - 0s 13ms/step - loss: 0.1593 - accuracy: 0.9508 - val_loss: 0.2858 - val_accuracy: 0.8859\n",
      "Epoch 29/40\n",
      "30/30 [==============================] - 0s 12ms/step - loss: 0.1544 - accuracy: 0.9535 - val_loss: 0.2869 - val_accuracy: 0.8850\n",
      "Epoch 30/40\n",
      "30/30 [==============================] - 0s 13ms/step - loss: 0.1477 - accuracy: 0.9568 - val_loss: 0.2868 - val_accuracy: 0.8858\n",
      "Epoch 31/40\n",
      "30/30 [==============================] - 0s 13ms/step - loss: 0.1402 - accuracy: 0.9580 - val_loss: 0.2874 - val_accuracy: 0.8871\n",
      "Epoch 32/40\n",
      "30/30 [==============================] - 0s 13ms/step - loss: 0.1361 - accuracy: 0.9609 - val_loss: 0.2890 - val_accuracy: 0.8855\n",
      "Epoch 33/40\n",
      "30/30 [==============================] - 0s 13ms/step - loss: 0.1293 - accuracy: 0.9611 - val_loss: 0.2895 - val_accuracy: 0.8867\n",
      "Epoch 34/40\n",
      "30/30 [==============================] - 0s 13ms/step - loss: 0.1274 - accuracy: 0.9621 - val_loss: 0.2917 - val_accuracy: 0.8855\n",
      "Epoch 35/40\n",
      "30/30 [==============================] - 0s 12ms/step - loss: 0.1208 - accuracy: 0.9660 - val_loss: 0.2926 - val_accuracy: 0.8863\n",
      "Epoch 36/40\n",
      "30/30 [==============================] - 0s 12ms/step - loss: 0.1170 - accuracy: 0.9689 - val_loss: 0.2951 - val_accuracy: 0.8854\n",
      "Epoch 37/40\n",
      "30/30 [==============================] - 0s 13ms/step - loss: 0.1151 - accuracy: 0.9682 - val_loss: 0.2968 - val_accuracy: 0.8845\n",
      "Epoch 38/40\n",
      "30/30 [==============================] - 0s 13ms/step - loss: 0.1086 - accuracy: 0.9702 - val_loss: 0.3005 - val_accuracy: 0.8844\n",
      "Epoch 39/40\n",
      "30/30 [==============================] - 0s 13ms/step - loss: 0.1052 - accuracy: 0.9716 - val_loss: 0.3029 - val_accuracy: 0.8827\n",
      "Epoch 40/40\n",
      "30/30 [==============================] - 0s 13ms/step - loss: 0.1026 - accuracy: 0.9726 - val_loss: 0.3054 - val_accuracy: 0.8826\n"
     ]
    }
   ],
   "source": [
    "history = model.fit(partial_x_train,\n",
    "                    partial_y_train,\n",
    "                    epochs=40,\n",
    "                    batch_size=512,\n",
    "                    validation_data=(x_val, y_val),\n",
    "                    verbose=1)"
   ]
  },
  {
   "cell_type": "code",
   "execution_count": 18,
   "metadata": {},
   "outputs": [
    {
     "name": "stdout",
     "output_type": "stream",
     "text": [
      "782/782 - 0s - loss: 0.3238 - accuracy: 0.8731\n",
      "[0.3238164782524109, 0.8731200098991394]\n"
     ]
    }
   ],
   "source": [
    "results = model.evaluate(test_data, test_labels, verbose=2)\n",
    "print(results)"
   ]
  },
  {
   "cell_type": "code",
   "execution_count": 19,
   "metadata": {},
   "outputs": [
    {
     "data": {
      "text/plain": [
       "dict_keys(['loss', 'accuracy', 'val_loss', 'val_accuracy'])"
      ]
     },
     "execution_count": 19,
     "metadata": {},
     "output_type": "execute_result"
    }
   ],
   "source": [
    "history_dict = history.history\n",
    "history_dict.keys()"
   ]
  },
  {
   "cell_type": "code",
   "execution_count": 20,
   "metadata": {},
   "outputs": [
    {
     "data": {
      "image/png": "[encoded data removed]",
      "text/plain": [
       "<Figure size 432x288 with 1 Axes>"
      ]
     },
     "metadata": {
      "needs_background": "light"
     },
     "output_type": "display_data"
    }
   ],
   "source": [
    "import matplotlib.pyplot as plt\n",
    "\n",
    "acc = history_dict['accuracy']\n",
    "val_acc = history_dict['val_accuracy']\n",
    "loss = history_dict['loss']\n",
    "val_loss = history_dict['val_loss']\n",
    "\n",
    "epochs = range(1, len(acc)+1)\n",
    "plt.plot(epochs, loss, 'bo', label='Training loss')\n",
    "plt.plot(epochs, val_loss, 'b', label='Validation loss')\n",
    "plt.title('Training and validation loss')\n",
    "plt.xlabel('Epochs')\n",
    "plt.ylabel('Loss')\n",
    "plt.legend()\n",
    "plt.show()"
   ]
  },
  {
   "cell_type": "code",
   "execution_count": 21,
   "metadata": {},
   "outputs": [
    {
     "data": {
      "image/png": "[encoded data removed]",
      "text/plain": [
       "<Figure size 432x288 with 1 Axes>"
      ]
     },
     "metadata": {
      "needs_background": "light"
     },
     "output_type": "display_data"
    }
   ],
   "source": [
    "plt.clf()\n",
    "\n",
    "plt.plot(epochs, acc, 'bo', label='Training acc')\n",
    "plt.plot(epochs, val_acc, 'b', label='Validation acc')\n",
    "plt.title('Training and validation accuracy')\n",
    "plt.xlabel('Epochs')\n",
    "plt.ylabel('Accuracy')\n",
    "plt.legend()\n",
    "plt.show()"
   ]
  },
  {
   "cell_type": "code",
   "execution_count": null,
   "metadata": {},
   "outputs": [],
   "source": []
  }
 ],
 "metadata": {
  "kernelspec": {
   "display_name": "Python 3",
   "language": "python",
   "name": "python3"
  },
  "language_info": {
   "codemirror_mode": {
    "name": "ipython",
    "version": 3
   },
   "file_extension": ".py",
   "mimetype": "text/x-python",
   "name": "python",
   "nbconvert_exporter": "python",
   "pygments_lexer": "ipython3",
   "version": "3.7.7"
  }
 },
 "nbformat": 4,
 "nbformat_minor": 4
}
