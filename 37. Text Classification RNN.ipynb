{
 "cells": [
  {
   "cell_type": "code",
   "execution_count": 1,
   "metadata": {},
   "outputs": [],
   "source": [
    "import numpy as np\n",
    "import tensorflow_datasets as tfds\n",
    "import tensorflow as tf\n",
    "\n",
    "tfds.disable_progress_bar()"
   ]
  },
  {
   "cell_type": "code",
   "execution_count": 2,
   "metadata": {},
   "outputs": [],
   "source": [
    "import matplotlib.pyplot as plt\n",
    "\n",
    "def plot_graphs(history, metric):\n",
    "    plt.plot(history.history[metric])\n",
    "    plt.plot(history.history['val_'+metric], '')\n",
    "    plt.xlabel('Epochs')\n",
    "    plt.ylabel(metric)\n",
    "    plt.legend([metric, 'val_'+metric])"
   ]
  },
  {
   "cell_type": "code",
   "execution_count": 3,
   "metadata": {},
   "outputs": [
    {
     "name": "stdout",
     "output_type": "stream",
     "text": [
      "Found 25000 files belonging to 2 classes.\n",
      "Using 20000 files for training.\n",
      "Found 25000 files belonging to 2 classes.\n",
      "Using 5000 files for validation.\n"
     ]
    },
    {
     "data": {
      "text/plain": [
       "(TensorSpec(shape=(None,), dtype=tf.string, name=None),\n",
       " TensorSpec(shape=(None,), dtype=tf.int32, name=None))"
      ]
     },
     "execution_count": 3,
     "metadata": {},
     "output_type": "execute_result"
    }
   ],
   "source": [
    "batch_size = 64\n",
    "seed = 123\n",
    "train_dataset = tf.keras.preprocessing.text_dataset_from_directory(\n",
    "    'aclImdb/train', batch_size = batch_size, validation_split=0.2,\n",
    "    subset='training', seed=seed\n",
    ")\n",
    "test_dataset = tf.keras.preprocessing.text_dataset_from_directory(\n",
    "    'aclImdb/train', batch_size=batch_size, validation_split=0.2,\n",
    "    subset='validation', seed=seed\n",
    ")\n",
    "train_dataset.element_spec"
   ]
  },
  {
   "cell_type": "code",
   "execution_count": 4,
   "metadata": {
    "scrolled": true
   },
   "outputs": [
    {
     "name": "stdout",
     "output_type": "stream",
     "text": [
      "text:  [b\"I have watched this movie well over 100-200 times, and I love it each and every time I watched it. Yes, it can be very corny but it is also very funny and enjoyable. The camp shown in the movie is a real camp that I actually attended for 7 years and is portrayed as camp really is, a great place to spend the summer. Everyone who has ever gone to camp, wanted to go to camp, or has sent a child to camp should see this movie because it'll bring back wonderful memories for you and for your kids.\"\n",
      " b'This movie is SOOOO funny!!! The acting is WONDERFUL, the Ramones are sexy, the jokes are subtle, and the plot is just what every high schooler dreams of doing to his/her school. I absolutely loved the soundtrack as well as the carefully placed cynicism. If you like monty python, You will love this film. This movie is a tad bit \"grease\"esk (without all the annoying songs). The songs that are sung are likable; you might even find yourself singing these songs once the movie is through. This musical ranks number two in musicals to me (second next to the blues brothers). But please, do not think of it as a musical per say; seeing as how the songs are so likable, it is hard to tell a carefully choreographed scene is taking place. I think of this movie as more of a comedy with undertones of romance. You will be reminded of what it was like to be a rebellious teenager; needless to say, you will be reminiscing of your old high school days after seeing this film. Highly recommended for both the family (since it is a very youthful but also for adults since there are many jokes that are funnier with age and experience.'\n",
      " b\"I saw Insomniac's Nightmare not to long ago for the first time and I have to say, I really found it to be quite good. If you are a fan of Dominic Monaghan you will love it. The hole movie takes place inside his mind -or does it? The acting from everyone else is a little rushed and shaky and some of the scenes could be cut down but it works out in the end. The extras on the DVD are just as great as the film, if not greater for those Dom fans. It has tons of candid moments from the set, outtakes and a great interview with the director. Anyone who has gone through making an independent film will love to watch Tess (the director), Dom and everyone else on the very small close personal set try to bang out this little trippy creepy film. It was pretty enjoyable and I'm glad to have it in my collection.\"]\n",
      "label:  [1 1 1]\n"
     ]
    }
   ],
   "source": [
    "for example, label in train_dataset.take(1):\n",
    "    print('text: ', example.numpy()[:3])\n",
    "    print('label: ', label.numpy()[:3])"
   ]
  },
  {
   "cell_type": "code",
   "execution_count": 5,
   "metadata": {},
   "outputs": [],
   "source": [
    "BUFFER_SIZE = 10000\n",
    "BATCH_SIZE = 64"
   ]
  },
  {
   "cell_type": "code",
   "execution_count": 6,
   "metadata": {},
   "outputs": [],
   "source": [
    "VOCAB_SIZE = 1000\n",
    "encoder = tf.keras.layers.experimental.preprocessing.TextVectorization(max_tokens = VOCAB_SIZE)\n",
    "encoder.adapt(train_dataset.map(lambda text, label: text))"
   ]
  },
  {
   "cell_type": "code",
   "execution_count": 7,
   "metadata": {},
   "outputs": [
    {
     "data": {
      "text/plain": [
       "array(['', '[UNK]', 'the', 'and', 'a', 'of', 'to', 'is', 'in', 'it', 'i',\n",
       "       'this', 'that', 'br', 'was', 'as', 'with', 'for', 'movie', 'but'],\n",
       "      dtype='<U14')"
      ]
     },
     "execution_count": 7,
     "metadata": {},
     "output_type": "execute_result"
    }
   ],
   "source": [
    "vocab = np.array(encoder.get_vocabulary())\n",
    "vocab[:20]"
   ]
  },
  {
   "cell_type": "code",
   "execution_count": 8,
   "metadata": {},
   "outputs": [
    {
     "data": {
      "text/plain": [
       "array([[ 10,  26, 279, ...,   0,   0,   0],\n",
       "       [ 11,  18,   7, ...,   0,   0,   0],\n",
       "       [ 10, 209,   1, ...,   0,   0,   0]], dtype=int64)"
      ]
     },
     "execution_count": 8,
     "metadata": {},
     "output_type": "execute_result"
    }
   ],
   "source": [
    "encoded_example = encoder(example)[:3].numpy()\n",
    "encoded_example"
   ]
  },
  {
   "cell_type": "code",
   "execution_count": 9,
   "metadata": {
    "scrolled": true
   },
   "outputs": [
    {
     "name": "stdout",
     "output_type": "stream",
     "text": [
      "Original:  b\"I have watched this movie well over 100-200 times, and I love it each and every time I watched it. Yes, it can be very corny but it is also very funny and enjoyable. The camp shown in the movie is a real camp that I actually attended for 7 years and is portrayed as camp really is, a great place to spend the summer. Everyone who has ever gone to camp, wanted to go to camp, or has sent a child to camp should see this movie because it'll bring back wonderful memories for you and for your kids.\"\n",
      "Round-trip:  i have watched this movie well over [UNK] times and i love it each and every time i watched it yes it can be very [UNK] but it is also very funny and enjoyable the [UNK] shown in the movie is a real [UNK] that i actually [UNK] for [UNK] years and is portrayed as [UNK] really is a great place to [UNK] the [UNK] everyone who has ever gone to [UNK] wanted to go to [UNK] or has [UNK] a child to [UNK] should see this movie because [UNK] bring back wonderful [UNK] for you and for your kids                                                                                                                                                                                                                                                                                                                                                                                                                                                                                                                                                                                                                                                                                                                                                                                                                                                                                     \n",
      "Original:  b'This movie is SOOOO funny!!! The acting is WONDERFUL, the Ramones are sexy, the jokes are subtle, and the plot is just what every high schooler dreams of doing to his/her school. I absolutely loved the soundtrack as well as the carefully placed cynicism. If you like monty python, You will love this film. This movie is a tad bit \"grease\"esk (without all the annoying songs). The songs that are sung are likable; you might even find yourself singing these songs once the movie is through. This musical ranks number two in musicals to me (second next to the blues brothers). But please, do not think of it as a musical per say; seeing as how the songs are so likable, it is hard to tell a carefully choreographed scene is taking place. I think of this movie as more of a comedy with undertones of romance. You will be reminded of what it was like to be a rebellious teenager; needless to say, you will be reminiscing of your old high school days after seeing this film. Highly recommended for both the family (since it is a very youthful but also for adults since there are many jokes that are funnier with age and experience.'\n",
      "Round-trip:  this movie is [UNK] funny the acting is wonderful the [UNK] are [UNK] the jokes are [UNK] and the plot is just what every high [UNK] [UNK] of doing to [UNK] school i absolutely loved the soundtrack as well as the [UNK] [UNK] [UNK] if you like [UNK] [UNK] you will love this film this movie is a [UNK] bit [UNK] without all the annoying songs the songs that are [UNK] are [UNK] you might even find yourself [UNK] these songs once the movie is through this musical [UNK] number two in [UNK] to me second next to the [UNK] brothers but please do not think of it as a musical [UNK] say seeing as how the songs are so [UNK] it is hard to tell a [UNK] [UNK] scene is taking place i think of this movie as more of a comedy with [UNK] of romance you will be [UNK] of what it was like to be a [UNK] [UNK] [UNK] to say you will be [UNK] of your old high school days after seeing this film highly [UNK] for both the family since it is a very [UNK] but also for [UNK] since there are many jokes that are [UNK] with age and experience                                                                                                                                                                                                                                                                                                                                                                                                                                                                                                                                                                                                                                                                                                                                                                           \n",
      "Original:  b\"I saw Insomniac's Nightmare not to long ago for the first time and I have to say, I really found it to be quite good. If you are a fan of Dominic Monaghan you will love it. The hole movie takes place inside his mind -or does it? The acting from everyone else is a little rushed and shaky and some of the scenes could be cut down but it works out in the end. The extras on the DVD are just as great as the film, if not greater for those Dom fans. It has tons of candid moments from the set, outtakes and a great interview with the director. Anyone who has gone through making an independent film will love to watch Tess (the director), Dom and everyone else on the very small close personal set try to bang out this little trippy creepy film. It was pretty enjoyable and I'm glad to have it in my collection.\"\n",
      "Round-trip:  i saw [UNK] [UNK] not to long ago for the first time and i have to say i really found it to be quite good if you are a fan of [UNK] [UNK] you will love it the [UNK] movie takes place inside his mind or does it the acting from everyone else is a little [UNK] and [UNK] and some of the scenes could be cut down but it works out in the end the [UNK] on the dvd are just as great as the film if not [UNK] for those [UNK] fans it has [UNK] of [UNK] moments from the set [UNK] and a great [UNK] with the director anyone who has gone through making an [UNK] film will love to watch [UNK] the director [UNK] and everyone else on the very small close personal set try to [UNK] out this little [UNK] creepy film it was pretty enjoyable and im [UNK] to have it in my [UNK]                                                                                                                                                                                                                                                                                                                                                                                                                                                                                                                                                                                                                                                                                                                                                                                                                         \n"
     ]
    }
   ],
   "source": [
    "for n in range(3):\n",
    "    print('Original: ', example[n].numpy())\n",
    "    print('Round-trip: ', ' '.join(vocab[encoded_example[n]]))"
   ]
  },
  {
   "cell_type": "code",
   "execution_count": 10,
   "metadata": {},
   "outputs": [],
   "source": [
    "model = tf.keras.Sequential([\n",
    "    encoder,\n",
    "    tf.keras.layers.Embedding(\n",
    "        input_dim = len(encoder.get_vocabulary()),\n",
    "        output_dim=64,\n",
    "        mask_zero=True\n",
    "    ),\n",
    "    tf.keras.layers.Bidirectional(tf.keras.layers.LSTM(64)),\n",
    "    tf.keras.layers.Dense(64, activation='relu'),\n",
    "    tf.keras.layers.Dense(1)\n",
    "])"
   ]
  },
  {
   "cell_type": "code",
   "execution_count": 11,
   "metadata": {},
   "outputs": [
    {
     "name": "stdout",
     "output_type": "stream",
     "text": [
      "[False, True, True, True, True]\n"
     ]
    }
   ],
   "source": [
    "print([layer.supports_masking for layer in model.layers])"
   ]
  },
  {
   "cell_type": "code",
   "execution_count": 12,
   "metadata": {},
   "outputs": [
    {
     "name": "stdout",
     "output_type": "stream",
     "text": [
      "[0.0016519]\n"
     ]
    }
   ],
   "source": [
    "sample_text = ('The movie was cool. The animation and the graphics '\n",
    "               'were out of this world. I would recommend this movie.')\n",
    "predictions = model.predict(np.array([sample_text]))\n",
    "print(predictions[0])"
   ]
  },
  {
   "cell_type": "code",
   "execution_count": 13,
   "metadata": {},
   "outputs": [
    {
     "name": "stdout",
     "output_type": "stream",
     "text": [
      "[0.0016519]\n"
     ]
    }
   ],
   "source": [
    "padding = 'the ' * 2000\n",
    "predictions = model.predict(np.array([sample_text, padding]))\n",
    "print(predictions[0])"
   ]
  },
  {
   "cell_type": "code",
   "execution_count": 14,
   "metadata": {},
   "outputs": [],
   "source": [
    "model.compile(loss = tf.keras.losses.BinaryCrossentropy(from_logits=True),\n",
    "             optimizer = tf.keras.optimizers.Adam(1e-4),\n",
    "             metrics=['accuracy'])"
   ]
  },
  {
   "cell_type": "code",
   "execution_count": 15,
   "metadata": {},
   "outputs": [
    {
     "name": "stdout",
     "output_type": "stream",
     "text": [
      "Epoch 1/10\n",
      "313/313 [==============================] - 445s 1s/step - loss: 0.6780 - accuracy: 0.5217 - val_loss: 0.5951 - val_accuracy: 0.6047\n",
      "Epoch 2/10\n",
      "313/313 [==============================] - 438s 1s/step - loss: 0.4496 - accuracy: 0.7794 - val_loss: 0.3769 - val_accuracy: 0.8224\n",
      "Epoch 3/10\n",
      "313/313 [==============================] - 435s 1s/step - loss: 0.3563 - accuracy: 0.8406 - val_loss: 0.3964 - val_accuracy: 0.7917\n",
      "Epoch 4/10\n",
      "313/313 [==============================] - 478s 2s/step - loss: 0.3316 - accuracy: 0.8543 - val_loss: 0.3540 - val_accuracy: 0.8516\n",
      "Epoch 5/10\n",
      "313/313 [==============================] - 434s 1s/step - loss: 0.3188 - accuracy: 0.8622 - val_loss: 0.3452 - val_accuracy: 0.8526\n",
      "Epoch 6/10\n",
      "313/313 [==============================] - 432s 1s/step - loss: 0.3118 - accuracy: 0.8649 - val_loss: 0.3401 - val_accuracy: 0.8484\n",
      "Epoch 7/10\n",
      "313/313 [==============================] - 442s 1s/step - loss: 0.3069 - accuracy: 0.8680 - val_loss: 0.3518 - val_accuracy: 0.8443\n",
      "Epoch 8/10\n",
      "313/313 [==============================] - 438s 1s/step - loss: 0.3031 - accuracy: 0.8693 - val_loss: 0.3403 - val_accuracy: 0.8422\n",
      "Epoch 9/10\n",
      "313/313 [==============================] - 431s 1s/step - loss: 0.3010 - accuracy: 0.8704 - val_loss: 0.3347 - val_accuracy: 0.8490\n",
      "Epoch 10/10\n",
      "313/313 [==============================] - 436s 1s/step - loss: 0.3011 - accuracy: 0.8702 - val_loss: 0.3461 - val_accuracy: 0.8453\n"
     ]
    }
   ],
   "source": [
    "with tf.device('cpu:0'):\n",
    "    history = model.fit(train_dataset, epochs=10,\n",
    "                    validation_data = test_dataset,\n",
    "                    validation_steps=30)"
   ]
  },
  {
   "cell_type": "code",
   "execution_count": 16,
   "metadata": {},
   "outputs": [
    {
     "name": "stdout",
     "output_type": "stream",
     "text": [
      "79/79 [==============================] - 4s 56ms/step - loss: 0.3362 - accuracy: 0.8544\n",
      "Test Loss: 0.3362452983856201\n",
      "Test Accuracy: 0.8543999791145325\n"
     ]
    }
   ],
   "source": [
    "test_loss, test_acc = model.evaluate(test_dataset)\n",
    "\n",
    "print('Test Loss: {}'.format(test_loss))\n",
    "print(\"Test Accuracy: {}\".format(test_acc))"
   ]
  },
  {
   "cell_type": "code",
   "execution_count": 17,
   "metadata": {},
   "outputs": [
    {
     "data": {
      "text/plain": [
       "(0.0, 0.696829417347908)"
      ]
     },
     "execution_count": 17,
     "metadata": {},
     "output_type": "execute_result"
    },
    {
     "data": {
      "image/png": "[encoded data removed]",
      "text/plain": [
       "<Figure size 1152x576 with 2 Axes>"
      ]
     },
     "metadata": {
      "needs_background": "light"
     },
     "output_type": "display_data"
    }
   ],
   "source": [
    "plt.figure(figsize=(16,8))\n",
    "plt.subplot(1,2,1)\n",
    "plot_graphs(history, 'accuracy')\n",
    "plt.ylim(None, 1)\n",
    "plt.subplot(1,2,2)\n",
    "plot_graphs(history, 'loss')\n",
    "plt.ylim(0, None)"
   ]
  },
  {
   "cell_type": "code",
   "execution_count": 18,
   "metadata": {},
   "outputs": [],
   "source": [
    "sample_text = ('The movie was cool. The animation and the graphics '\n",
    "               'were out of this world. I would recommend this movie.')\n",
    "predictions = model.predict(np.array([sample_text]))"
   ]
  },
  {
   "cell_type": "code",
   "execution_count": 19,
   "metadata": {},
   "outputs": [],
   "source": [
    "model = tf.keras.Sequential([\n",
    "    encoder,\n",
    "    tf.keras.layers.Embedding(len(encoder.get_vocabulary()), 64, mask_zero = True),\n",
    "    tf.keras.layers.Bidirectional(tf.keras.layers.LSTM(64, return_sequences = True)),\n",
    "    tf.keras.layers.Bidirectional(tf.keras.layers.LSTM(32)),\n",
    "    tf.keras.layers.Dense(64, activation='relu'),\n",
    "    tf.keras.layers.Dropout(0.5),\n",
    "    tf.keras.layers.Dense(1)\n",
    "])"
   ]
  },
  {
   "cell_type": "code",
   "execution_count": 20,
   "metadata": {},
   "outputs": [],
   "source": [
    "model.compile(loss = tf.keras.losses.BinaryCrossentropy(from_logits=True),\n",
    "              optimizer = tf.keras.optimizers.Adam(1e-4),\n",
    "              metrics=['accuracy'])"
   ]
  },
  {
   "cell_type": "code",
   "execution_count": 21,
   "metadata": {},
   "outputs": [
    {
     "name": "stdout",
     "output_type": "stream",
     "text": [
      "Epoch 1/10\n",
      "313/313 [==============================] - 664s 2s/step - loss: 0.6705 - accuracy: 0.5318 - val_loss: 0.5958 - val_accuracy: 0.7115\n",
      "Epoch 2/10\n",
      "313/313 [==============================] - 761s 2s/step - loss: 0.4417 - accuracy: 0.7901 - val_loss: 0.3869 - val_accuracy: 0.8281\n",
      "Epoch 3/10\n",
      "313/313 [==============================] - 732s 2s/step - loss: 0.3606 - accuracy: 0.8424 - val_loss: 0.3947 - val_accuracy: 0.8208\n",
      "Epoch 4/10\n",
      "313/313 [==============================] - 721s 2s/step - loss: 0.3294 - accuracy: 0.8589 - val_loss: 0.3854 - val_accuracy: 0.8167\n",
      "Epoch 5/10\n",
      "313/313 [==============================] - 730s 2s/step - loss: 0.3300 - accuracy: 0.8560 - val_loss: 0.3523 - val_accuracy: 0.8432\n",
      "Epoch 6/10\n",
      "313/313 [==============================] - 733s 2s/step - loss: 0.3168 - accuracy: 0.8653 - val_loss: 0.3397 - val_accuracy: 0.8495\n",
      "Epoch 7/10\n",
      "313/313 [==============================] - 737s 2s/step - loss: 0.3074 - accuracy: 0.8696 - val_loss: 0.3293 - val_accuracy: 0.8557\n",
      "Epoch 8/10\n",
      "313/313 [==============================] - 743s 2s/step - loss: 0.3035 - accuracy: 0.8716 - val_loss: 0.3413 - val_accuracy: 0.8464\n",
      "Epoch 9/10\n",
      "313/313 [==============================] - 731s 2s/step - loss: 0.3016 - accuracy: 0.8718 - val_loss: 0.3360 - val_accuracy: 0.8557\n",
      "Epoch 10/10\n",
      "313/313 [==============================] - 726s 2s/step - loss: 0.2975 - accuracy: 0.8731 - val_loss: 0.3229 - val_accuracy: 0.8542\n"
     ]
    }
   ],
   "source": [
    "with tf.device('cpu:0'):\n",
    "    history = model.fit(train_dataset, epochs=10,\n",
    "                    validation_data=test_dataset,\n",
    "                    validation_steps=30)"
   ]
  },
  {
   "cell_type": "code",
   "execution_count": 22,
   "metadata": {},
   "outputs": [
    {
     "name": "stdout",
     "output_type": "stream",
     "text": [
      "79/79 [==============================] - 6s 81ms/step - loss: 0.3198 - accuracy: 0.8632\n",
      "Test Loss: 0.319803386926651\n",
      "Test Accuracy: 0.8632000088691711\n"
     ]
    }
   ],
   "source": [
    "test_loss, test_acc = model.evaluate(test_dataset)\n",
    "\n",
    "print('Test Loss: {}'.format(test_loss))\n",
    "print(\"Test Accuracy: {}\".format(test_acc))"
   ]
  },
  {
   "cell_type": "code",
   "execution_count": 23,
   "metadata": {},
   "outputs": [
    {
     "name": "stdout",
     "output_type": "stream",
     "text": [
      "[[-1.5591979]]\n"
     ]
    }
   ],
   "source": [
    "# predict on a sample text without padding.\n",
    "\n",
    "sample_text = ('The movie was not good. The animation and the graphics '\n",
    "                    'were terrible. I would not recommend this movie.')\n",
    "predictions = model.predict(np.array([sample_text]))\n",
    "print(predictions)"
   ]
  },
  {
   "cell_type": "code",
   "execution_count": 24,
   "metadata": {},
   "outputs": [
    {
     "data": {
      "image/png": "[encoded data removed]",
      "text/plain": [
       "<Figure size 1152x432 with 2 Axes>"
      ]
     },
     "metadata": {
      "needs_background": "light"
     },
     "output_type": "display_data"
    }
   ],
   "source": [
    "plt.figure(figsize=(16,6))\n",
    "plt.subplot(1,2,1)\n",
    "plot_graphs(history, 'accuracy')\n",
    "plt.subplot(1,2,2)\n",
    "plot_graphs(history, 'loss')"
   ]
  },
  {
   "cell_type": "code",
   "execution_count": null,
   "metadata": {},
   "outputs": [],
   "source": []
  }
 ],
 "metadata": {
  "kernelspec": {
   "display_name": "Python 3",
   "language": "python",
   "name": "python3"
  },
  "language_info": {
   "codemirror_mode": {
    "name": "ipython",
    "version": 3
   },
   "file_extension": ".py",
   "mimetype": "text/x-python",
   "name": "python",
   "nbconvert_exporter": "python",
   "pygments_lexer": "ipython3",
   "version": "3.7.7"
  }
 },
 "nbformat": 4,
 "nbformat_minor": 4
}
