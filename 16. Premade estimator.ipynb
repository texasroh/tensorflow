{
 "cells": [
  {
   "cell_type": "code",
   "execution_count": 1,
   "metadata": {},
   "outputs": [],
   "source": [
    "import tensorflow as tf\n",
    "\n",
    "import pandas as pd"
   ]
  },
  {
   "cell_type": "code",
   "execution_count": 2,
   "metadata": {},
   "outputs": [],
   "source": [
    "CSV_COLUMN_NAMES = ['SepalLength', 'SepalWidth', 'PetalLength', 'PetalWidth', 'Species']\n",
    "SPECIES = ['Setosa', 'Versicolor', 'Virginica']"
   ]
  },
  {
   "cell_type": "code",
   "execution_count": 3,
   "metadata": {},
   "outputs": [
    {
     "name": "stdout",
     "output_type": "stream",
     "text": [
      "Downloading data from https://storage.googleapis.com/download.tensorflow.org/data/iris_training.csv\n",
      "8192/2194 [================================================================================================================] - 0s 0s/step\n",
      "Downloading data from https://storage.googleapis.com/download.tensorflow.org/data/iris_test.csv\n",
      "8192/573 [============================================================================================================================================================================================================================================================================================================================================================================================================================================] - 0s 0s/step\n"
     ]
    }
   ],
   "source": [
    "train_path = tf.keras.utils.get_file(\n",
    "    \"iris_training.csv\", \"https://storage.googleapis.com/download.tensorflow.org/data/iris_training.csv\")\n",
    "test_path = tf.keras.utils.get_file(\n",
    "    \"iris_test.csv\", \"https://storage.googleapis.com/download.tensorflow.org/data/iris_test.csv\")\n",
    "\n",
    "train = pd.read_csv(train_path, names=CSV_COLUMN_NAMES, header=0)\n",
    "test = pd.read_csv(test_path, names=CSV_COLUMN_NAMES, header=0)"
   ]
  },
  {
   "cell_type": "code",
   "execution_count": 4,
   "metadata": {},
   "outputs": [
    {
     "data": {
      "text/html": [
       "<div>\n",
       "<style scoped>\n",
       "    .dataframe tbody tr th:only-of-type {\n",
       "        vertical-align: middle;\n",
       "    }\n",
       "\n",
       "    .dataframe tbody tr th {\n",
       "        vertical-align: top;\n",
       "    }\n",
       "\n",
       "    .dataframe thead th {\n",
       "        text-align: right;\n",
       "    }\n",
       "</style>\n",
       "<table border=\"1\" class=\"dataframe\">\n",
       "  <thead>\n",
       "    <tr style=\"text-align: right;\">\n",
       "      <th></th>\n",
       "      <th>SepalLength</th>\n",
       "      <th>SepalWidth</th>\n",
       "      <th>PetalLength</th>\n",
       "      <th>PetalWidth</th>\n",
       "      <th>Species</th>\n",
       "    </tr>\n",
       "  </thead>\n",
       "  <tbody>\n",
       "    <tr>\n",
       "      <th>0</th>\n",
       "      <td>6.4</td>\n",
       "      <td>2.8</td>\n",
       "      <td>5.6</td>\n",
       "      <td>2.2</td>\n",
       "      <td>2</td>\n",
       "    </tr>\n",
       "    <tr>\n",
       "      <th>1</th>\n",
       "      <td>5.0</td>\n",
       "      <td>2.3</td>\n",
       "      <td>3.3</td>\n",
       "      <td>1.0</td>\n",
       "      <td>1</td>\n",
       "    </tr>\n",
       "    <tr>\n",
       "      <th>2</th>\n",
       "      <td>4.9</td>\n",
       "      <td>2.5</td>\n",
       "      <td>4.5</td>\n",
       "      <td>1.7</td>\n",
       "      <td>2</td>\n",
       "    </tr>\n",
       "    <tr>\n",
       "      <th>3</th>\n",
       "      <td>4.9</td>\n",
       "      <td>3.1</td>\n",
       "      <td>1.5</td>\n",
       "      <td>0.1</td>\n",
       "      <td>0</td>\n",
       "    </tr>\n",
       "    <tr>\n",
       "      <th>4</th>\n",
       "      <td>5.7</td>\n",
       "      <td>3.8</td>\n",
       "      <td>1.7</td>\n",
       "      <td>0.3</td>\n",
       "      <td>0</td>\n",
       "    </tr>\n",
       "  </tbody>\n",
       "</table>\n",
       "</div>"
      ],
      "text/plain": [
       "   SepalLength  SepalWidth  PetalLength  PetalWidth  Species\n",
       "0          6.4         2.8          5.6         2.2        2\n",
       "1          5.0         2.3          3.3         1.0        1\n",
       "2          4.9         2.5          4.5         1.7        2\n",
       "3          4.9         3.1          1.5         0.1        0\n",
       "4          5.7         3.8          1.7         0.3        0"
      ]
     },
     "execution_count": 4,
     "metadata": {},
     "output_type": "execute_result"
    }
   ],
   "source": [
    "train.head()"
   ]
  },
  {
   "cell_type": "code",
   "execution_count": 5,
   "metadata": {},
   "outputs": [],
   "source": [
    "train_y = train.pop('Species')\n",
    "test_y = test.pop('Species')"
   ]
  },
  {
   "cell_type": "code",
   "execution_count": 6,
   "metadata": {},
   "outputs": [],
   "source": [
    "def input_evaluation_set():\n",
    "    features = {\n",
    "        'SepalLength': np.array([6.4, 5.0]),\n",
    "        'SepalWidth': np.array([2.8, 2.3]),\n",
    "        'PetalLength': np.array([5.6, 3.3]),\n",
    "        'PetalWidth': np.array([2.2, 1.0])\n",
    "    }\n",
    "    labels = np.array([2,1])\n",
    "    return features, labels"
   ]
  },
  {
   "cell_type": "code",
   "execution_count": 7,
   "metadata": {},
   "outputs": [],
   "source": [
    "def input_fn(features, labels, training=True, batch_size = 256):\n",
    "    dataset = tf.data.Dataset.from_tensor_slices((dict(features), labels))\n",
    "    \n",
    "    if training:\n",
    "        dataset = dataset.shuffle(1000).repeat()\n",
    "        \n",
    "    return dataset.batch(batch_size)"
   ]
  },
  {
   "cell_type": "code",
   "execution_count": 8,
   "metadata": {},
   "outputs": [],
   "source": [
    "my_feature_columns = []\n",
    "for key in train.keys():\n",
    "    my_feature_columns.append(tf.feature_column.numeric_column(key=key))"
   ]
  },
  {
   "cell_type": "code",
   "execution_count": 9,
   "metadata": {},
   "outputs": [
    {
     "name": "stdout",
     "output_type": "stream",
     "text": [
      "INFO:tensorflow:Using default config.\n",
      "WARNING:tensorflow:Using temporary folder as model directory: C:\\Users\\June\\AppData\\Local\\Temp\\tmp0wc_71wv\n",
      "INFO:tensorflow:Using config: {'_model_dir': 'C:\\\\Users\\\\June\\\\AppData\\\\Local\\\\Temp\\\\tmp0wc_71wv', '_tf_random_seed': None, '_save_summary_steps': 100, '_save_checkpoints_steps': None, '_save_checkpoints_secs': 600, '_session_config': allow_soft_placement: true\n",
      "graph_options {\n",
      "  rewrite_options {\n",
      "    meta_optimizer_iterations: ONE\n",
      "  }\n",
      "}\n",
      ", '_keep_checkpoint_max': 5, '_keep_checkpoint_every_n_hours': 10000, '_log_step_count_steps': 100, '_train_distribute': None, '_device_fn': None, '_protocol': None, '_eval_distribute': None, '_experimental_distribute': None, '_experimental_max_worker_delay_secs': None, '_session_creation_timeout_secs': 7200, '_checkpoint_save_graph_def': True, '_service': None, '_cluster_spec': ClusterSpec({}), '_task_type': 'worker', '_task_id': 0, '_global_id_in_cluster': 0, '_master': '', '_evaluation_master': '', '_is_chief': True, '_num_ps_replicas': 0, '_num_worker_replicas': 1}\n"
     ]
    }
   ],
   "source": [
    "classifier = tf.estimator.DNNClassifier(\n",
    "    feature_columns = my_feature_columns,\n",
    "    hidden_units=[30,10],\n",
    "    n_classes=3\n",
    ")"
   ]
  },
  {
   "cell_type": "code",
   "execution_count": 11,
   "metadata": {
    "scrolled": true
   },
   "outputs": [
    {
     "name": "stdout",
     "output_type": "stream",
     "text": [
      "WARNING:tensorflow:From c:\\workspace\\python\\project1\\lib\\site-packages\\tensorflow\\python\\training\\training_util.py:236: Variable.initialized_value (from tensorflow.python.ops.variables) is deprecated and will be removed in a future version.\n",
      "Instructions for updating:\n",
      "Use Variable.read_value. Variables in 2.X are initialized automatically both in eager and graph (inside tf.defun) contexts.\n",
      "INFO:tensorflow:Calling model_fn.\n",
      "WARNING:tensorflow:From c:\\workspace\\python\\project1\\lib\\site-packages\\tensorflow\\python\\keras\\optimizer_v2\\adagrad.py:83: calling Constant.__init__ (from tensorflow.python.ops.init_ops) with dtype is deprecated and will be removed in a future version.\n",
      "Instructions for updating:\n",
      "Call initializer instance with the dtype argument instead of passing it to the constructor\n",
      "INFO:tensorflow:Done calling model_fn.\n",
      "INFO:tensorflow:Create CheckpointSaverHook.\n",
      "INFO:tensorflow:Graph was finalized.\n",
      "INFO:tensorflow:Running local_init_op.\n",
      "INFO:tensorflow:Done running local_init_op.\n",
      "INFO:tensorflow:Calling checkpoint listeners before saving checkpoint 0...\n",
      "INFO:tensorflow:Saving checkpoints for 0 into C:\\Users\\June\\AppData\\Local\\Temp\\tmp0wc_71wv\\model.ckpt.\n",
      "INFO:tensorflow:Calling checkpoint listeners after saving checkpoint 0...\n",
      "INFO:tensorflow:loss = 1.6843574, step = 0\n",
      "INFO:tensorflow:global_step/sec: 677.656\n",
      "INFO:tensorflow:loss = 1.1273248, step = 100 (0.148 sec)\n",
      "INFO:tensorflow:global_step/sec: 892.667\n",
      "INFO:tensorflow:loss = 1.0449332, step = 200 (0.113 sec)\n",
      "INFO:tensorflow:global_step/sec: 929.185\n",
      "INFO:tensorflow:loss = 0.9859087, step = 300 (0.108 sec)\n",
      "INFO:tensorflow:global_step/sec: 940.085\n",
      "INFO:tensorflow:loss = 0.9523114, step = 400 (0.106 sec)\n",
      "INFO:tensorflow:global_step/sec: 922.277\n",
      "INFO:tensorflow:loss = 0.9127049, step = 500 (0.108 sec)\n",
      "INFO:tensorflow:global_step/sec: 993.158\n",
      "INFO:tensorflow:loss = 0.8859742, step = 600 (0.100 sec)\n",
      "INFO:tensorflow:global_step/sec: 862.798\n",
      "INFO:tensorflow:loss = 0.8712765, step = 700 (0.116 sec)\n",
      "INFO:tensorflow:global_step/sec: 989.659\n",
      "INFO:tensorflow:loss = 0.8441943, step = 800 (0.101 sec)\n",
      "INFO:tensorflow:global_step/sec: 863.439\n",
      "INFO:tensorflow:loss = 0.8110878, step = 900 (0.120 sec)\n",
      "INFO:tensorflow:global_step/sec: 832.479\n",
      "INFO:tensorflow:loss = 0.78873336, step = 1000 (0.117 sec)\n",
      "INFO:tensorflow:global_step/sec: 872.089\n",
      "INFO:tensorflow:loss = 0.7548214, step = 1100 (0.115 sec)\n",
      "INFO:tensorflow:global_step/sec: 906.314\n",
      "INFO:tensorflow:loss = 0.72575337, step = 1200 (0.110 sec)\n",
      "INFO:tensorflow:global_step/sec: 907.626\n",
      "INFO:tensorflow:loss = 0.7111251, step = 1300 (0.110 sec)\n",
      "INFO:tensorflow:global_step/sec: 846.549\n",
      "INFO:tensorflow:loss = 0.68208975, step = 1400 (0.117 sec)\n",
      "INFO:tensorflow:global_step/sec: 855.219\n",
      "INFO:tensorflow:loss = 0.6760082, step = 1500 (0.119 sec)\n",
      "INFO:tensorflow:global_step/sec: 919.471\n",
      "INFO:tensorflow:loss = 0.6429616, step = 1600 (0.108 sec)\n",
      "INFO:tensorflow:global_step/sec: 898.39\n",
      "INFO:tensorflow:loss = 0.6328898, step = 1700 (0.111 sec)\n",
      "INFO:tensorflow:global_step/sec: 843.02\n",
      "INFO:tensorflow:loss = 0.6319356, step = 1800 (0.119 sec)\n",
      "INFO:tensorflow:global_step/sec: 714.582\n",
      "INFO:tensorflow:loss = 0.6220844, step = 1900 (0.140 sec)\n",
      "INFO:tensorflow:global_step/sec: 845.648\n",
      "INFO:tensorflow:loss = 0.591781, step = 2000 (0.119 sec)\n",
      "INFO:tensorflow:global_step/sec: 909.93\n",
      "INFO:tensorflow:loss = 0.58951235, step = 2100 (0.109 sec)\n",
      "INFO:tensorflow:global_step/sec: 912.458\n",
      "INFO:tensorflow:loss = 0.5714143, step = 2200 (0.110 sec)\n",
      "INFO:tensorflow:global_step/sec: 903.84\n",
      "INFO:tensorflow:loss = 0.5709086, step = 2300 (0.111 sec)\n",
      "INFO:tensorflow:global_step/sec: 914.844\n",
      "INFO:tensorflow:loss = 0.5613222, step = 2400 (0.109 sec)\n",
      "INFO:tensorflow:global_step/sec: 912.956\n",
      "INFO:tensorflow:loss = 0.54106826, step = 2500 (0.110 sec)\n",
      "INFO:tensorflow:global_step/sec: 1001.78\n",
      "INFO:tensorflow:loss = 0.53735524, step = 2600 (0.099 sec)\n",
      "INFO:tensorflow:global_step/sec: 856.48\n",
      "INFO:tensorflow:loss = 0.5480876, step = 2700 (0.117 sec)\n",
      "INFO:tensorflow:global_step/sec: 855.066\n",
      "INFO:tensorflow:loss = 0.5188714, step = 2800 (0.117 sec)\n",
      "INFO:tensorflow:global_step/sec: 848.936\n",
      "INFO:tensorflow:loss = 0.5316746, step = 2900 (0.118 sec)\n",
      "INFO:tensorflow:global_step/sec: 1010.58\n",
      "INFO:tensorflow:loss = 0.52214116, step = 3000 (0.099 sec)\n",
      "INFO:tensorflow:global_step/sec: 856.458\n",
      "INFO:tensorflow:loss = 0.5066225, step = 3100 (0.117 sec)\n",
      "INFO:tensorflow:global_step/sec: 999.074\n",
      "INFO:tensorflow:loss = 0.51103044, step = 3200 (0.116 sec)\n",
      "INFO:tensorflow:global_step/sec: 857.047\n",
      "INFO:tensorflow:loss = 0.5045986, step = 3300 (0.101 sec)\n",
      "INFO:tensorflow:global_step/sec: 864.294\n",
      "INFO:tensorflow:loss = 0.48251697, step = 3400 (0.116 sec)\n",
      "INFO:tensorflow:global_step/sec: 987.729\n",
      "INFO:tensorflow:loss = 0.48377097, step = 3500 (0.101 sec)\n",
      "INFO:tensorflow:global_step/sec: 856.974\n",
      "INFO:tensorflow:loss = 0.49058193, step = 3600 (0.117 sec)\n",
      "INFO:tensorflow:global_step/sec: 997.746\n",
      "INFO:tensorflow:loss = 0.47944206, step = 3700 (0.100 sec)\n",
      "INFO:tensorflow:global_step/sec: 857.626\n",
      "INFO:tensorflow:loss = 0.4899662, step = 3800 (0.117 sec)\n",
      "INFO:tensorflow:global_step/sec: 863.715\n",
      "INFO:tensorflow:loss = 0.47358745, step = 3900 (0.116 sec)\n",
      "INFO:tensorflow:global_step/sec: 985.268\n",
      "INFO:tensorflow:loss = 0.46748883, step = 4000 (0.101 sec)\n",
      "INFO:tensorflow:global_step/sec: 859.143\n",
      "INFO:tensorflow:loss = 0.46361953, step = 4100 (0.116 sec)\n",
      "INFO:tensorflow:global_step/sec: 998.577\n",
      "INFO:tensorflow:loss = 0.4592972, step = 4200 (0.100 sec)\n",
      "INFO:tensorflow:global_step/sec: 856.484\n",
      "INFO:tensorflow:loss = 0.4490682, step = 4300 (0.117 sec)\n",
      "INFO:tensorflow:global_step/sec: 864.614\n",
      "INFO:tensorflow:loss = 0.45476103, step = 4400 (0.116 sec)\n",
      "INFO:tensorflow:global_step/sec: 987.934\n",
      "INFO:tensorflow:loss = 0.44489348, step = 4500 (0.101 sec)\n",
      "INFO:tensorflow:global_step/sec: 806.603\n",
      "INFO:tensorflow:loss = 0.43045262, step = 4600 (0.125 sec)\n",
      "INFO:tensorflow:global_step/sec: 921.922\n",
      "INFO:tensorflow:loss = 0.43305585, step = 4700 (0.107 sec)\n",
      "INFO:tensorflow:global_step/sec: 988.817\n",
      "INFO:tensorflow:loss = 0.43864033, step = 4800 (0.101 sec)\n",
      "INFO:tensorflow:global_step/sec: 816.487\n",
      "INFO:tensorflow:loss = 0.4443728, step = 4900 (0.123 sec)\n",
      "INFO:tensorflow:Calling checkpoint listeners before saving checkpoint 5000...\n",
      "INFO:tensorflow:Saving checkpoints for 5000 into C:\\Users\\June\\AppData\\Local\\Temp\\tmp0wc_71wv\\model.ckpt.\n",
      "INFO:tensorflow:Calling checkpoint listeners after saving checkpoint 5000...\n",
      "INFO:tensorflow:Loss for final step: 0.42853612.\n"
     ]
    },
    {
     "data": {
      "text/plain": [
       "<tensorflow_estimator.python.estimator.canned.dnn.DNNClassifierV2 at 0x2022077da88>"
      ]
     },
     "execution_count": 11,
     "metadata": {},
     "output_type": "execute_result"
    }
   ],
   "source": [
    "classifier.train(input_fn = lambda: input_fn(train, train_y, training=True), steps=5000)"
   ]
  },
  {
   "cell_type": "code",
   "execution_count": 16,
   "metadata": {},
   "outputs": [
    {
     "name": "stdout",
     "output_type": "stream",
     "text": [
      "INFO:tensorflow:Calling model_fn.\n",
      "INFO:tensorflow:Done calling model_fn.\n",
      "INFO:tensorflow:Starting evaluation at 2020-12-17T00:49:30Z\n",
      "INFO:tensorflow:Graph was finalized.\n",
      "INFO:tensorflow:Restoring parameters from C:\\Users\\June\\AppData\\Local\\Temp\\tmp0wc_71wv\\model.ckpt-5000\n",
      "INFO:tensorflow:Running local_init_op.\n",
      "INFO:tensorflow:Done running local_init_op.\n",
      "INFO:tensorflow:Inference Time : 0.31207s\n",
      "INFO:tensorflow:Finished evaluation at 2020-12-17-00:49:31\n",
      "INFO:tensorflow:Saving dict for global step 5000: accuracy = 0.76666665, average_loss = 0.5123671, global_step = 5000, loss = 0.5123671\n",
      "INFO:tensorflow:Saving 'checkpoint_path' summary for global step 5000: C:\\Users\\June\\AppData\\Local\\Temp\\tmp0wc_71wv\\model.ckpt-5000\n",
      "\n",
      "Test set accuracy:  0.767\n",
      "\n"
     ]
    }
   ],
   "source": [
    "eval_result = classifier.evaluate(\n",
    "    input_fn = lambda: input_fn(test, test_y, training=False)\n",
    ")\n",
    "\n",
    "print('\\nTest set accuracy: {accuracy: 0.3f}\\n'.format(**eval_result))"
   ]
  },
  {
   "cell_type": "code",
   "execution_count": 17,
   "metadata": {},
   "outputs": [
    {
     "data": {
      "text/plain": [
       "{'accuracy': 0.76666665,\n",
       " 'average_loss': 0.5123671,\n",
       " 'loss': 0.5123671,\n",
       " 'global_step': 5000}"
      ]
     },
     "execution_count": 17,
     "metadata": {},
     "output_type": "execute_result"
    }
   ],
   "source": [
    "eval_result"
   ]
  },
  {
   "cell_type": "code",
   "execution_count": 30,
   "metadata": {},
   "outputs": [],
   "source": [
    "expected = ['Setosa', 'Versicolor', 'Virginica']\n",
    "predict_x = {\n",
    "    'SepalLength': [5.1, 5.9, 6.9],\n",
    "    'SepalWidth': [3.3, 3.0, 3.1],\n",
    "    'PetalLength': [1.7, 4.2, 5.4],\n",
    "    'PetalWidth': [0.5, 1.5, 2.1],\n",
    "}\n",
    "\n",
    "def input_fn(features, batch_size=256):\n",
    "    return tf.data.Dataset.from_tensor_slices(dict(features)).batch(batch_size)\n",
    "\n",
    "predictions = classifier.predict(\n",
    "    input_fn = lambda: input_fn(predict_x)\n",
    ")"
   ]
  },
  {
   "cell_type": "code",
   "execution_count": 19,
   "metadata": {},
   "outputs": [
    {
     "name": "stdout",
     "output_type": "stream",
     "text": [
      "INFO:tensorflow:Calling model_fn.\n",
      "INFO:tensorflow:Done calling model_fn.\n",
      "INFO:tensorflow:Graph was finalized.\n",
      "INFO:tensorflow:Restoring parameters from C:\\Users\\June\\AppData\\Local\\Temp\\tmp0wc_71wv\\model.ckpt-5000\n",
      "INFO:tensorflow:Running local_init_op.\n",
      "INFO:tensorflow:Done running local_init_op.\n",
      "Prediction is \"Setosa\" (82.8%), expected \"Setosa\"\n",
      "Prediction is \"Versicolor\" (46.9%), expected \"Versicolor\"\n",
      "Prediction is \"Virginica\" (63.1%), expected \"Virginica\"\n"
     ]
    }
   ],
   "source": [
    "for pred_dict, expec in zip(predictions, expected):\n",
    "    class_id = pred_dict['class_ids'][0]\n",
    "    probability = pred_dict['probabilities'][class_id]\n",
    "    \n",
    "    print('Prediction is \"{}\" ({:.1f}%), expected \"{}\"'.format(SPECIES[class_id], 100*probability, expec))"
   ]
  },
  {
   "cell_type": "code",
   "execution_count": null,
   "metadata": {},
   "outputs": [],
   "source": []
  }
 ],
 "metadata": {
  "kernelspec": {
   "display_name": "Python 3",
   "language": "python",
   "name": "python3"
  },
  "language_info": {
   "codemirror_mode": {
    "name": "ipython",
    "version": 3
   },
   "file_extension": ".py",
   "mimetype": "text/x-python",
   "name": "python",
   "nbconvert_exporter": "python",
   "pygments_lexer": "ipython3",
   "version": "3.7.7"
  }
 },
 "nbformat": 4,
 "nbformat_minor": 4
}
