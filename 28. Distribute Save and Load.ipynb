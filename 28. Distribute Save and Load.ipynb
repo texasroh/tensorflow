{
 "cells": [
  {
   "cell_type": "code",
   "execution_count": 1,
   "metadata": {},
   "outputs": [],
   "source": [
    "import tensorflow_datasets as tfds\n",
    "import tensorflow as tf\n",
    "tfds.disable_progress_bar()"
   ]
  },
  {
   "cell_type": "code",
   "execution_count": 2,
   "metadata": {},
   "outputs": [
    {
     "name": "stdout",
     "output_type": "stream",
     "text": [
      "INFO:tensorflow:Using MirroredStrategy with devices ('/job:localhost/replica:0/task:0/device:GPU:0',)\n"
     ]
    }
   ],
   "source": [
    "mirrored_strategy = tf.distribute.MirroredStrategy()\n",
    "\n",
    "def get_data():\n",
    "    datasets, ds_info = tfds.load(name='mnist', with_info = True, as_supervised = True)\n",
    "    mnist_train, mnist_test = datasets['train'], datasets['test']\n",
    "    \n",
    "    BUFFER_SIZE = 10000\n",
    "    \n",
    "    BATCH_SIZE_PER_REPLICA = 64\n",
    "    BATCH_SIZE = BATCH_SIZE_PER_REPLICA * mirrored_strategy.num_replicas_in_sync\n",
    "    \n",
    "    def scale(image, label):\n",
    "        image = tf.cast(image, tf.float32)\n",
    "        image /= 255\n",
    "        \n",
    "        return image, label\n",
    "    \n",
    "    train_dataset = mnist_train.map(scale).cache().shuffle(BUFFER_SIZE).batch(BATCH_SIZE)\n",
    "    eval_dataset = mnist_test.map(scale).batch(BATCH_SIZE)\n",
    "    \n",
    "    return train_dataset, eval_dataset\n",
    "\n",
    "def get_model():\n",
    "    with mirrored_strategy.scope():\n",
    "        model = tf.keras.Sequential([\n",
    "            tf.keras.layers.Conv2D(32,3,activation = 'relu', input_shape=(28,28,1)),\n",
    "            tf.keras.layers.MaxPooling2D(),\n",
    "            tf.keras.layers.Flatten(),\n",
    "            tf.keras.layers.Dense(64, activation = 'relu'),\n",
    "            tf.keras.layers.Dense(10)\n",
    "        ])\n",
    "        \n",
    "        model.compile(loss = tf.keras.losses.SparseCategoricalCrossentropy(from_logits = True),\n",
    "                      optimizer = tf.keras.optimizers.Adam(),\n",
    "                      metrics = ['accuracy'])\n",
    "        return model"
   ]
  },
  {
   "cell_type": "code",
   "execution_count": 3,
   "metadata": {},
   "outputs": [
    {
     "name": "stdout",
     "output_type": "stream",
     "text": [
      "Epoch 1/2\n",
      "WARNING:tensorflow:From c:\\workspace\\python\\jupyterenv\\lib\\site-packages\\tensorflow\\python\\data\\ops\\multi_device_iterator_ops.py:601: get_next_as_optional (from tensorflow.python.data.ops.iterator_ops) is deprecated and will be removed in a future version.\n",
      "Instructions for updating:\n",
      "Use `tf.data.Iterator.get_next_as_optional()` instead.\n"
     ]
    },
    {
     "name": "stderr",
     "output_type": "stream",
     "text": [
      "WARNING:tensorflow:From c:\\workspace\\python\\jupyterenv\\lib\\site-packages\\tensorflow\\python\\data\\ops\\multi_device_iterator_ops.py:601: get_next_as_optional (from tensorflow.python.data.ops.iterator_ops) is deprecated and will be removed in a future version.\n",
      "Instructions for updating:\n",
      "Use `tf.data.Iterator.get_next_as_optional()` instead.\n"
     ]
    },
    {
     "name": "stdout",
     "output_type": "stream",
     "text": [
      "INFO:tensorflow:Reduce to /job:localhost/replica:0/task:0/device:CPU:0 then broadcast to ('/job:localhost/replica:0/task:0/device:CPU:0',).\n"
     ]
    },
    {
     "name": "stderr",
     "output_type": "stream",
     "text": [
      "INFO:tensorflow:Reduce to /job:localhost/replica:0/task:0/device:CPU:0 then broadcast to ('/job:localhost/replica:0/task:0/device:CPU:0',).\n"
     ]
    },
    {
     "name": "stdout",
     "output_type": "stream",
     "text": [
      "INFO:tensorflow:Reduce to /job:localhost/replica:0/task:0/device:CPU:0 then broadcast to ('/job:localhost/replica:0/task:0/device:CPU:0',).\n"
     ]
    },
    {
     "name": "stderr",
     "output_type": "stream",
     "text": [
      "INFO:tensorflow:Reduce to /job:localhost/replica:0/task:0/device:CPU:0 then broadcast to ('/job:localhost/replica:0/task:0/device:CPU:0',).\n"
     ]
    },
    {
     "name": "stdout",
     "output_type": "stream",
     "text": [
      "INFO:tensorflow:Reduce to /job:localhost/replica:0/task:0/device:CPU:0 then broadcast to ('/job:localhost/replica:0/task:0/device:CPU:0',).\n"
     ]
    },
    {
     "name": "stderr",
     "output_type": "stream",
     "text": [
      "INFO:tensorflow:Reduce to /job:localhost/replica:0/task:0/device:CPU:0 then broadcast to ('/job:localhost/replica:0/task:0/device:CPU:0',).\n"
     ]
    },
    {
     "name": "stdout",
     "output_type": "stream",
     "text": [
      "INFO:tensorflow:Reduce to /job:localhost/replica:0/task:0/device:CPU:0 then broadcast to ('/job:localhost/replica:0/task:0/device:CPU:0',).\n"
     ]
    },
    {
     "name": "stderr",
     "output_type": "stream",
     "text": [
      "INFO:tensorflow:Reduce to /job:localhost/replica:0/task:0/device:CPU:0 then broadcast to ('/job:localhost/replica:0/task:0/device:CPU:0',).\n"
     ]
    },
    {
     "name": "stdout",
     "output_type": "stream",
     "text": [
      "INFO:tensorflow:Reduce to /job:localhost/replica:0/task:0/device:CPU:0 then broadcast to ('/job:localhost/replica:0/task:0/device:CPU:0',).\n"
     ]
    },
    {
     "name": "stderr",
     "output_type": "stream",
     "text": [
      "INFO:tensorflow:Reduce to /job:localhost/replica:0/task:0/device:CPU:0 then broadcast to ('/job:localhost/replica:0/task:0/device:CPU:0',).\n"
     ]
    },
    {
     "name": "stdout",
     "output_type": "stream",
     "text": [
      "INFO:tensorflow:Reduce to /job:localhost/replica:0/task:0/device:CPU:0 then broadcast to ('/job:localhost/replica:0/task:0/device:CPU:0',).\n"
     ]
    },
    {
     "name": "stderr",
     "output_type": "stream",
     "text": [
      "INFO:tensorflow:Reduce to /job:localhost/replica:0/task:0/device:CPU:0 then broadcast to ('/job:localhost/replica:0/task:0/device:CPU:0',).\n"
     ]
    },
    {
     "name": "stdout",
     "output_type": "stream",
     "text": [
      "INFO:tensorflow:Reduce to /job:localhost/replica:0/task:0/device:CPU:0 then broadcast to ('/job:localhost/replica:0/task:0/device:CPU:0',).\n"
     ]
    },
    {
     "name": "stderr",
     "output_type": "stream",
     "text": [
      "INFO:tensorflow:Reduce to /job:localhost/replica:0/task:0/device:CPU:0 then broadcast to ('/job:localhost/replica:0/task:0/device:CPU:0',).\n"
     ]
    },
    {
     "name": "stdout",
     "output_type": "stream",
     "text": [
      "INFO:tensorflow:Reduce to /job:localhost/replica:0/task:0/device:CPU:0 then broadcast to ('/job:localhost/replica:0/task:0/device:CPU:0',).\n"
     ]
    },
    {
     "name": "stderr",
     "output_type": "stream",
     "text": [
      "INFO:tensorflow:Reduce to /job:localhost/replica:0/task:0/device:CPU:0 then broadcast to ('/job:localhost/replica:0/task:0/device:CPU:0',).\n"
     ]
    },
    {
     "name": "stdout",
     "output_type": "stream",
     "text": [
      "938/938 [==============================] - 3s 4ms/step - loss: 0.2016 - accuracy: 0.9418\n",
      "INFO:tensorflow:Reduce to /job:localhost/replica:0/task:0/device:CPU:0 then broadcast to ('/job:localhost/replica:0/task:0/device:CPU:0',).\n"
     ]
    },
    {
     "name": "stderr",
     "output_type": "stream",
     "text": [
      "INFO:tensorflow:Reduce to /job:localhost/replica:0/task:0/device:CPU:0 then broadcast to ('/job:localhost/replica:0/task:0/device:CPU:0',).\n"
     ]
    },
    {
     "name": "stdout",
     "output_type": "stream",
     "text": [
      "INFO:tensorflow:Reduce to /job:localhost/replica:0/task:0/device:CPU:0 then broadcast to ('/job:localhost/replica:0/task:0/device:CPU:0',).\n"
     ]
    },
    {
     "name": "stderr",
     "output_type": "stream",
     "text": [
      "INFO:tensorflow:Reduce to /job:localhost/replica:0/task:0/device:CPU:0 then broadcast to ('/job:localhost/replica:0/task:0/device:CPU:0',).\n"
     ]
    },
    {
     "name": "stdout",
     "output_type": "stream",
     "text": [
      "Epoch 2/2\n",
      "938/938 [==============================] - 3s 3ms/step - loss: 0.0644 - accuracy: 0.9808\n"
     ]
    },
    {
     "data": {
      "text/plain": [
       "<tensorflow.python.keras.callbacks.History at 0x1109bddc108>"
      ]
     },
     "execution_count": 3,
     "metadata": {},
     "output_type": "execute_result"
    }
   ],
   "source": [
    "model = get_model()\n",
    "train_dataset, eval_dataset = get_data()\n",
    "model.fit(train_dataset, epochs=2)"
   ]
  },
  {
   "cell_type": "code",
   "execution_count": 12,
   "metadata": {},
   "outputs": [
    {
     "name": "stdout",
     "output_type": "stream",
     "text": [
      "INFO:tensorflow:Assets written to: tmp/keras_save\\assets\n"
     ]
    },
    {
     "name": "stderr",
     "output_type": "stream",
     "text": [
      "INFO:tensorflow:Assets written to: tmp/keras_save\\assets\n"
     ]
    }
   ],
   "source": [
    "keras_model_path = 'tmp/keras_save'\n",
    "model.save(keras_model_path)"
   ]
  },
  {
   "cell_type": "code",
   "execution_count": 13,
   "metadata": {},
   "outputs": [
    {
     "name": "stdout",
     "output_type": "stream",
     "text": [
      "Epoch 1/2\n",
      "938/938 [==============================] - 3s 3ms/step - loss: 0.0469 - accuracy: 0.0989\n",
      "Epoch 2/2\n",
      "938/938 [==============================] - 3s 3ms/step - loss: 0.0318 - accuracy: 0.0989\n"
     ]
    },
    {
     "data": {
      "text/plain": [
       "<tensorflow.python.keras.callbacks.History at 0x11213915908>"
      ]
     },
     "execution_count": 13,
     "metadata": {},
     "output_type": "execute_result"
    }
   ],
   "source": [
    "restored_keras_model = tf.keras.models.load_model(keras_model_path)\n",
    "restored_keras_model.fit(train_dataset, epochs=2)"
   ]
  },
  {
   "cell_type": "code",
   "execution_count": 8,
   "metadata": {},
   "outputs": [
    {
     "name": "stdout",
     "output_type": "stream",
     "text": [
      "Epoch 1/2\n",
      "938/938 [==============================] - 9s 9ms/step - loss: 0.0468 - accuracy: 0.0989\n",
      "Epoch 2/2\n",
      "938/938 [==============================] - 9s 9ms/step - loss: 0.0326 - accuracy: 0.0988\n"
     ]
    }
   ],
   "source": [
    "another_strategy = tf.distribute.OneDeviceStrategy('/cpu:0')\n",
    "with another_strategy.scope():\n",
    "    restored_keras_model_ds = tf.keras.models.load_model(keras_model_path)\n",
    "    restored_keras_model_ds.fit(train_dataset, epochs=2)"
   ]
  },
  {
   "cell_type": "code",
   "execution_count": 14,
   "metadata": {},
   "outputs": [
    {
     "name": "stdout",
     "output_type": "stream",
     "text": [
      "INFO:tensorflow:Assets written to: tmp/tf_save\\assets\n"
     ]
    },
    {
     "name": "stderr",
     "output_type": "stream",
     "text": [
      "INFO:tensorflow:Assets written to: tmp/tf_save\\assets\n"
     ]
    }
   ],
   "source": [
    "model = get_model()\n",
    "saved_model_path = 'tmp/tf_save'\n",
    "tf.saved_model.save(model, saved_model_path)"
   ]
  },
  {
   "cell_type": "code",
   "execution_count": 15,
   "metadata": {},
   "outputs": [],
   "source": [
    "DEFAULT_FUNCTION_KEY = 'serving_default'\n",
    "loaded = tf.saved_model.load(saved_model_path)\n",
    "inference_func = loaded.signatures[DEFAULT_FUNCTION_KEY]"
   ]
  },
  {
   "cell_type": "code",
   "execution_count": 16,
   "metadata": {},
   "outputs": [
    {
     "name": "stdout",
     "output_type": "stream",
     "text": [
      "{'dense_3': <tf.Tensor: shape=(64, 10), dtype=float32, numpy=\n",
      "array([[-0.0829123 , -0.06152943, -0.01587072, -0.1656029 ,  0.05474384,\n",
      "         0.03666794,  0.00277608,  0.02019307, -0.10257424,  0.13552004],\n",
      "       [-0.33277196, -0.00605263, -0.02691737, -0.27874362,  0.04871486,\n",
      "         0.07691699, -0.07253227,  0.26639998, -0.18273337,  0.16780001],\n",
      "       [-0.26240134, -0.04634908,  0.01078824, -0.23441333,  0.16879407,\n",
      "         0.04412546,  0.06927565, -0.01572404, -0.2222803 ,  0.07767498],\n",
      "       [ 0.00459268,  0.07381551, -0.03296474, -0.09470411, -0.12175172,\n",
      "        -0.01561971, -0.03131202,  0.05366429,  0.0007196 , -0.02906748],\n",
      "       [-0.18901592, -0.00352631, -0.02599388, -0.28089857, -0.07095713,\n",
      "         0.0234315 , -0.10426559,  0.11795697, -0.01998066,  0.13857779],\n",
      "       [-0.09944651, -0.05678781,  0.02039987, -0.09451534,  0.09430286,\n",
      "        -0.02301737,  0.00447764,  0.02802629, -0.20443335,  0.02968082],\n",
      "       [-0.20867878,  0.01297967, -0.0015285 , -0.22701643,  0.10990389,\n",
      "         0.09338917, -0.02977092,  0.11125021, -0.21636875,  0.11584   ],\n",
      "       [-0.11514641, -0.07488281, -0.09202474, -0.0666761 ,  0.0342207 ,\n",
      "         0.04349124,  0.03671351,  0.07103658, -0.13800982,  0.02041534],\n",
      "       [-0.22658376, -0.04585442, -0.06355155, -0.16220838,  0.13530871,\n",
      "         0.06511355,  0.01464628,  0.08375366, -0.22181484,  0.12613557],\n",
      "       [-0.05534684,  0.03711619, -0.06890393, -0.06480666,  0.06378278,\n",
      "         0.09271471,  0.04015327,  0.09819783, -0.02185608, -0.07468672],\n",
      "       [-0.18107481,  0.10489185,  0.0389736 , -0.19998766, -0.01078701,\n",
      "         0.14428711, -0.07503654,  0.10161939, -0.21697822,  0.16667457],\n",
      "       [-0.14920618,  0.01672747,  0.00356772, -0.34569255, -0.03747313,\n",
      "         0.02424346, -0.06697244,  0.15290919, -0.1976622 ,  0.1315439 ],\n",
      "       [-0.34120423, -0.04361229, -0.15266562, -0.17710719,  0.00405052,\n",
      "        -0.11418363, -0.02100862,  0.13855982, -0.15805642,  0.13109626],\n",
      "       [-0.13303083, -0.00440421, -0.10542683, -0.21355437, -0.0465067 ,\n",
      "        -0.07593583, -0.06398662,  0.13226385, -0.07959068,  0.21391365],\n",
      "       [ 0.0187354 , -0.01703844, -0.08828256, -0.07511938, -0.12579176,\n",
      "         0.02314633, -0.14691873,  0.02014419, -0.14733708,  0.10393141],\n",
      "       [-0.05778547,  0.12257896,  0.06976001, -0.18378787, -0.02236623,\n",
      "        -0.00500154, -0.10607943,  0.01574179, -0.1314338 ,  0.10966481],\n",
      "       [ 0.0421453 ,  0.21624143, -0.03271722, -0.22391385, -0.1027391 ,\n",
      "         0.02209664,  0.0085907 ,  0.07349415, -0.07050309,  0.02050892],\n",
      "       [-0.27521813,  0.00412509, -0.02617777, -0.26666677,  0.04640259,\n",
      "         0.01264475, -0.02347023,  0.17695047, -0.07971793,  0.07887946],\n",
      "       [-0.15111   , -0.02336654,  0.00659298, -0.17095065,  0.12342647,\n",
      "        -0.04620632, -0.00128931,  0.1088116 , -0.12314337, -0.06494386],\n",
      "       [-0.07026829, -0.00051018, -0.02851909, -0.26828593, -0.15304781,\n",
      "         0.01489785, -0.10927619,  0.08131537, -0.13003126,  0.15779984],\n",
      "       [-0.14211535,  0.06730276,  0.04973161, -0.08688495,  0.05444907,\n",
      "        -0.04517586,  0.01488505,  0.09014802, -0.21134299,  0.08067722],\n",
      "       [-0.10837747, -0.00194409, -0.00222245, -0.07537062,  0.03624452,\n",
      "        -0.03623774, -0.05974998,  0.0605619 , -0.05888056,  0.06220556],\n",
      "       [-0.25116915, -0.02063251,  0.07445233, -0.22264455,  0.08636744,\n",
      "        -0.05602517,  0.01977142,  0.08387848, -0.13684459,  0.09862077],\n",
      "       [-0.19135186,  0.02760299,  0.01201047, -0.18302725,  0.01079133,\n",
      "         0.03292735, -0.03913559,  0.13232264, -0.12533014,  0.1562219 ],\n",
      "       [-0.17415614, -0.04897674, -0.06056788, -0.09489324,  0.16148438,\n",
      "         0.06349626,  0.08829652,  0.14300194,  0.01467838, -0.0684935 ],\n",
      "       [-0.2073443 , -0.02857993, -0.01060066, -0.28982157,  0.0760012 ,\n",
      "         0.06772362,  0.09203821,  0.10937456, -0.08597041,  0.09980245],\n",
      "       [-0.14416596,  0.03349577, -0.0126928 , -0.17892307,  0.00758535,\n",
      "         0.08703937,  0.02874365,  0.1476481 , -0.12019758, -0.00549791],\n",
      "       [-0.08638264, -0.03556318, -0.02956298, -0.03072655,  0.08109718,\n",
      "         0.15396664, -0.04733484,  0.03274132, -0.23561881,  0.0038719 ],\n",
      "       [-0.06785172,  0.05647635,  0.0723692 , -0.19263512,  0.00698289,\n",
      "         0.07907717, -0.01974928,  0.06715488, -0.10420588,  0.06444248],\n",
      "       [-0.06068739,  0.01712217,  0.03125026, -0.09694088,  0.01772389,\n",
      "        -0.08799128,  0.01795979, -0.00186182, -0.14077729,  0.06433792],\n",
      "       [-0.0522807 , -0.01252666, -0.0613418 , -0.12681684, -0.22516769,\n",
      "        -0.03126917, -0.14801723,  0.05901304, -0.16134521,  0.19941959],\n",
      "       [-0.2402914 , -0.09161657, -0.04443134, -0.2725061 ,  0.17138979,\n",
      "        -0.02507176,  0.11708659,  0.12065478, -0.1319605 ,  0.20726135],\n",
      "       [-0.25219756, -0.11908706, -0.14353174, -0.11068477,  0.18552783,\n",
      "         0.08764197, -0.07769123,  0.11782781, -0.12325324,  0.09310458],\n",
      "       [-0.08434655, -0.00092928, -0.05306419,  0.00368035, -0.03436758,\n",
      "        -0.00978759, -0.04305605,  0.09503337, -0.04616252,  0.03361055],\n",
      "       [-0.32163775, -0.0767265 , -0.10909726, -0.03981392,  0.18331806,\n",
      "         0.00793713,  0.00234698,  0.21297699, -0.28660622,  0.20858365],\n",
      "       [-0.06539509,  0.03305574, -0.02243483, -0.11237383, -0.1436091 ,\n",
      "         0.0542436 , -0.16906846,  0.08049394, -0.18750536, -0.00960916],\n",
      "       [-0.2104245 , -0.04752415,  0.00856019, -0.26751807,  0.09453329,\n",
      "         0.11437199,  0.04579081,  0.06658974, -0.09403326,  0.13627923],\n",
      "       [-0.02190662,  0.12065464,  0.02311225, -0.25116834, -0.02546657,\n",
      "         0.08626337, -0.0235201 ,  0.15381095,  0.00351382, -0.03467827],\n",
      "       [-0.05312975,  0.06779764, -0.05565724, -0.11893487, -0.02634077,\n",
      "         0.04960847,  0.03786618,  0.13995287, -0.04238896, -0.01901071],\n",
      "       [-0.15012886,  0.1172556 ,  0.01447886, -0.22012436, -0.05264784,\n",
      "         0.10597955, -0.09434342,  0.13955839, -0.04711139,  0.08894232],\n",
      "       [-0.18774559, -0.20139469, -0.20000839, -0.03138577,  0.12264014,\n",
      "        -0.08716404,  0.02920003,  0.25406098, -0.16863817,  0.20348029],\n",
      "       [-0.12300919, -0.0946631 , -0.15081562, -0.06845937, -0.04584299,\n",
      "         0.06318079, -0.04603022,  0.10045816, -0.00772868,  0.01263472],\n",
      "       [-0.10273986, -0.10673651, -0.04949793, -0.04480164,  0.04022315,\n",
      "        -0.03316452, -0.0745187 ,  0.05192856, -0.08711362,  0.06626068],\n",
      "       [-0.2185567 , -0.0411029 , -0.04381401, -0.24638572,  0.04619585,\n",
      "         0.02092456,  0.04355052,  0.12987716, -0.08437849,  0.09061912],\n",
      "       [-0.03553999,  0.04417306,  0.01974198, -0.1533967 , -0.07106499,\n",
      "        -0.02627201, -0.08810575,  0.01897669, -0.14101098,  0.08623372],\n",
      "       [-0.22634107, -0.05852102, -0.05365557, -0.13956028,  0.11875772,\n",
      "         0.08652002,  0.07129009,  0.1265646 , -0.01888773, -0.02492441],\n",
      "       [-0.11142281,  0.0505781 , -0.04955734, -0.07847463,  0.01739358,\n",
      "        -0.06251168, -0.00682063,  0.05674141, -0.13655871, -0.05572149],\n",
      "       [-0.27624992,  0.08157113,  0.03543162, -0.3761631 ,  0.04220067,\n",
      "         0.12757133, -0.08218762,  0.1709598 , -0.21968067,  0.13646215],\n",
      "       [-0.13686678, -0.02563119, -0.01910634, -0.08548179, -0.03458796,\n",
      "        -0.07947013, -0.02688026,  0.06724398, -0.151288  ,  0.17931272],\n",
      "       [-0.06670845,  0.0353933 , -0.06861782, -0.07720913,  0.05801675,\n",
      "         0.06258608,  0.063232  ,  0.05711267, -0.01929703, -0.05810526],\n",
      "       [-0.3478749 , -0.06714763,  0.03801859, -0.21616581,  0.08757769,\n",
      "        -0.00461105,  0.01912382,  0.14676796, -0.18503961,  0.19386744],\n",
      "       [-0.2705674 ,  0.02167242, -0.11468072, -0.1944452 , -0.01166599,\n",
      "        -0.1113873 ,  0.01583523,  0.10585754, -0.13355748,  0.02431791],\n",
      "       [-0.09102711,  0.00852263, -0.01592719, -0.05763943,  0.06202105,\n",
      "        -0.06559752,  0.01031133,  0.04509496, -0.2009307 ,  0.01939487],\n",
      "       [-0.14113122, -0.02240876, -0.15044162, -0.00970645, -0.14409167,\n",
      "        -0.13022685, -0.14061533,  0.14779967, -0.12703179,  0.08452741],\n",
      "       [-0.12759481, -0.03648376, -0.05424573, -0.13301954, -0.20025542,\n",
      "        -0.13757397, -0.16834152,  0.12256873, -0.26850152,  0.10857382],\n",
      "       [-0.19708394,  0.0210329 ,  0.09342097, -0.14636673,  0.078079  ,\n",
      "         0.01868897, -0.02680764,  0.09463127, -0.1880869 ,  0.03938597],\n",
      "       [-0.21013524, -0.0655373 , -0.00211718, -0.11134633,  0.06430041,\n",
      "        -0.03559391,  0.04084077,  0.06567779, -0.18341956,  0.20395939],\n",
      "       [-0.25071263, -0.06482463, -0.11891998, -0.22193536,  0.03695843,\n",
      "        -0.02757758, -0.06852978,  0.1805402 , -0.10025707,  0.12601133],\n",
      "       [ 0.04548638,  0.05183885,  0.01949768, -0.05340306, -0.01607405,\n",
      "         0.14011198, -0.00541952,  0.26272976, -0.1677295 ,  0.07276486],\n",
      "       [-0.26340988,  0.06131111,  0.06623224, -0.08598068,  0.1692304 ,\n",
      "         0.10396616,  0.01934271,  0.18086801, -0.21817958, -0.03720577],\n",
      "       [-0.14069706, -0.05066056, -0.02880541, -0.02882929,  0.17301199,\n",
      "        -0.02467874, -0.00392661,  0.04744354, -0.12474507,  0.06148816],\n",
      "       [-0.13974169,  0.03857203,  0.02998219, -0.18586813,  0.01088676,\n",
      "        -0.01764744, -0.04136532,  0.10123973, -0.22545901,  0.02623715],\n",
      "       [ 0.02605789,  0.08333149,  0.03172529, -0.18563111, -0.07900288,\n",
      "        -0.00316752, -0.1209563 , -0.0318175 , -0.1051296 ,  0.02905123],\n",
      "       [-0.05723087,  0.02762808,  0.03284064, -0.02420709,  0.07357766,\n",
      "        -0.00720222, -0.03325206,  0.00988872, -0.15385129,  0.02105861]],\n",
      "      dtype=float32)>}\n"
     ]
    }
   ],
   "source": [
    "predict_dataset = eval_dataset.map(lambda image, label: image)\n",
    "for batch in predict_dataset.take(1):\n",
    "    print(inference_func(batch))"
   ]
  },
  {
   "cell_type": "code",
   "execution_count": 17,
   "metadata": {},
   "outputs": [
    {
     "name": "stdout",
     "output_type": "stream",
     "text": [
      "INFO:tensorflow:Using MirroredStrategy with devices ('/job:localhost/replica:0/task:0/device:GPU:0',)\n"
     ]
    },
    {
     "name": "stderr",
     "output_type": "stream",
     "text": [
      "INFO:tensorflow:Using MirroredStrategy with devices ('/job:localhost/replica:0/task:0/device:GPU:0',)\n"
     ]
    },
    {
     "name": "stdout",
     "output_type": "stream",
     "text": [
      "WARNING:tensorflow:Using MirroredStrategy eagerly has significant overhead currently. We will be working on improving this in the future, but for now please wrap `call_for_each_replica` or `experimental_run` or `experimental_run_v2` inside a tf.function to get the best performance.\n"
     ]
    },
    {
     "name": "stderr",
     "output_type": "stream",
     "text": [
      "WARNING:tensorflow:Using MirroredStrategy eagerly has significant overhead currently. We will be working on improving this in the future, but for now please wrap `call_for_each_replica` or `experimental_run` or `experimental_run_v2` inside a tf.function to get the best performance.\n"
     ]
    },
    {
     "name": "stdout",
     "output_type": "stream",
     "text": [
      "WARNING:tensorflow:Using MirroredStrategy eagerly has significant overhead currently. We will be working on improving this in the future, but for now please wrap `call_for_each_replica` or `experimental_run` or `experimental_run_v2` inside a tf.function to get the best performance.\n"
     ]
    },
    {
     "name": "stderr",
     "output_type": "stream",
     "text": [
      "WARNING:tensorflow:Using MirroredStrategy eagerly has significant overhead currently. We will be working on improving this in the future, but for now please wrap `call_for_each_replica` or `experimental_run` or `experimental_run_v2` inside a tf.function to get the best performance.\n"
     ]
    },
    {
     "name": "stdout",
     "output_type": "stream",
     "text": [
      "WARNING:tensorflow:Using MirroredStrategy eagerly has significant overhead currently. We will be working on improving this in the future, but for now please wrap `call_for_each_replica` or `experimental_run` or `experimental_run_v2` inside a tf.function to get the best performance.\n"
     ]
    },
    {
     "name": "stderr",
     "output_type": "stream",
     "text": [
      "WARNING:tensorflow:Using MirroredStrategy eagerly has significant overhead currently. We will be working on improving this in the future, but for now please wrap `call_for_each_replica` or `experimental_run` or `experimental_run_v2` inside a tf.function to get the best performance.\n"
     ]
    },
    {
     "name": "stdout",
     "output_type": "stream",
     "text": [
      "WARNING:tensorflow:Using MirroredStrategy eagerly has significant overhead currently. We will be working on improving this in the future, but for now please wrap `call_for_each_replica` or `experimental_run` or `experimental_run_v2` inside a tf.function to get the best performance.\n"
     ]
    },
    {
     "name": "stderr",
     "output_type": "stream",
     "text": [
      "WARNING:tensorflow:Using MirroredStrategy eagerly has significant overhead currently. We will be working on improving this in the future, but for now please wrap `call_for_each_replica` or `experimental_run` or `experimental_run_v2` inside a tf.function to get the best performance.\n"
     ]
    },
    {
     "name": "stdout",
     "output_type": "stream",
     "text": [
      "WARNING:tensorflow:Using MirroredStrategy eagerly has significant overhead currently. We will be working on improving this in the future, but for now please wrap `call_for_each_replica` or `experimental_run` or `experimental_run_v2` inside a tf.function to get the best performance.\n"
     ]
    },
    {
     "name": "stderr",
     "output_type": "stream",
     "text": [
      "WARNING:tensorflow:Using MirroredStrategy eagerly has significant overhead currently. We will be working on improving this in the future, but for now please wrap `call_for_each_replica` or `experimental_run` or `experimental_run_v2` inside a tf.function to get the best performance.\n"
     ]
    }
   ],
   "source": [
    "another_strategy = tf.distribute.MirroredStrategy()\n",
    "with another_strategy.scope():\n",
    "    loaded = tf.saved_model.load(saved_model_path)\n",
    "    inference_func = loaded.signatures[DEFAULT_FUNCTION_KEY]\n",
    "    \n",
    "    dist_predict_dataset = another_strategy.experimental_distribute_dataset(predict_dataset)\n",
    "    \n",
    "    for batch in dist_predict_dataset:\n",
    "        another_strategy.run(inference_func, args=(batch,))"
   ]
  },
  {
   "cell_type": "code",
   "execution_count": 22,
   "metadata": {},
   "outputs": [
    {
     "name": "stdout",
     "output_type": "stream",
     "text": [
      "INFO:tensorflow:Using MirroredStrategy with devices ('/job:localhost/replica:0/task:0/device:GPU:0',)\n"
     ]
    },
    {
     "name": "stderr",
     "output_type": "stream",
     "text": [
      "INFO:tensorflow:Using MirroredStrategy with devices ('/job:localhost/replica:0/task:0/device:GPU:0',)\n"
     ]
    },
    {
     "name": "stdout",
     "output_type": "stream",
     "text": [
      "Epoch 1/2\n",
      "938/938 [==============================] - 3s 3ms/step - loss: 0.2107 - accuracy: 0.9386\n",
      "Epoch 2/2\n",
      "938/938 [==============================] - 3s 3ms/step - loss: 0.0681 - accuracy: 0.9797\n"
     ]
    }
   ],
   "source": [
    "import tensorflow_hub as hub\n",
    "\n",
    "def build_model(loaded):\n",
    "    x = tf.keras.layers.Input(shape=(28,28,1), name='input_x')\n",
    "    \n",
    "    keras_layer = hub.KerasLayer(loaded, trainable=True)(x)\n",
    "    model = tf.keras.Model(x, keras_layer)\n",
    "    return model\n",
    "\n",
    "another_strategy = tf.distribute.MirroredStrategy()\n",
    "with another_strategy.scope():\n",
    "    loaded = tf.saved_model.load(saved_model_path)\n",
    "    model = build_model(loaded)\n",
    "    \n",
    "    model.compile(loss = tf.keras.losses.SparseCategoricalCrossentropy(from_logits = True),\n",
    "                  optimizer = tf.keras.optimizers.Adam(),\n",
    "                  metrics=['accuracy'])\n",
    "    model.fit(train_dataset, epochs=2)\n",
    "    "
   ]
  },
  {
   "cell_type": "code",
   "execution_count": 23,
   "metadata": {},
   "outputs": [
    {
     "name": "stdout",
     "output_type": "stream",
     "text": [
      "INFO:tensorflow:Assets written to: tmp/keras_save\\assets\n"
     ]
    },
    {
     "name": "stderr",
     "output_type": "stream",
     "text": [
      "INFO:tensorflow:Assets written to: tmp/keras_save\\assets\n"
     ]
    },
    {
     "name": "stdout",
     "output_type": "stream",
     "text": [
      "INFO:tensorflow:Using MirroredStrategy with devices ('/job:localhost/replica:0/task:0/device:GPU:0',)\n"
     ]
    },
    {
     "name": "stderr",
     "output_type": "stream",
     "text": [
      "INFO:tensorflow:Using MirroredStrategy with devices ('/job:localhost/replica:0/task:0/device:GPU:0',)\n"
     ]
    }
   ],
   "source": [
    "model = get_model()\n",
    "\n",
    "model.save(keras_model_path)\n",
    "\n",
    "another_strategy = tf.distribute.MirroredStrategy()\n",
    "with another_strategy.scope():\n",
    "    loaded = tf.saved_model.load(keras_model_path)"
   ]
  },
  {
   "cell_type": "code",
   "execution_count": 27,
   "metadata": {},
   "outputs": [
    {
     "name": "stdout",
     "output_type": "stream",
     "text": [
      "WARNING:tensorflow:Skipping full serialization of Keras layer <__main__.SubclassedModel object at 0x00000112199021C8>, because it is not built.\n"
     ]
    },
    {
     "name": "stderr",
     "output_type": "stream",
     "text": [
      "WARNING:tensorflow:Skipping full serialization of Keras layer <__main__.SubclassedModel object at 0x00000112199021C8>, because it is not built.\n"
     ]
    },
    {
     "name": "stdout",
     "output_type": "stream",
     "text": [
      "WARNING:tensorflow:Skipping full serialization of Keras layer <tensorflow.python.keras.layers.core.Dense object at 0x0000011219902308>, because it is not built.\n"
     ]
    },
    {
     "name": "stderr",
     "output_type": "stream",
     "text": [
      "WARNING:tensorflow:Skipping full serialization of Keras layer <tensorflow.python.keras.layers.core.Dense object at 0x0000011219902308>, because it is not built.\n"
     ]
    },
    {
     "name": "stdout",
     "output_type": "stream",
     "text": [
      "INFO:tensorflow:Assets written to: tmp/tf_save\\assets\n"
     ]
    },
    {
     "name": "stderr",
     "output_type": "stream",
     "text": [
      "INFO:tensorflow:Assets written to: tmp/tf_save\\assets\n"
     ]
    }
   ],
   "source": [
    "class SubclassedModel(tf.keras.Model):\n",
    "    output_name = 'output_layer'\n",
    "    \n",
    "    def __init__(self):\n",
    "        super(SubclassedModel, self).__init__()\n",
    "        self._dense_layer = tf.keras.layers.Dense(5, dtype=tf.dtypes.float32, name=self.output_name)\n",
    "        \n",
    "    def call(self, inputs):\n",
    "        return self._dense_layer(inputs)\n",
    "    \n",
    "my_model = SubclassedModel()\n",
    "#my_model.save(keras_model_path)\n",
    "tf.saved_model.save(my_model, saved_model_path)"
   ]
  },
  {
   "cell_type": "code",
   "execution_count": null,
   "metadata": {},
   "outputs": [],
   "source": []
  }
 ],
 "metadata": {
  "kernelspec": {
   "display_name": "Python 3",
   "language": "python",
   "name": "python3"
  },
  "language_info": {
   "codemirror_mode": {
    "name": "ipython",
    "version": 3
   },
   "file_extension": ".py",
   "mimetype": "text/x-python",
   "name": "python",
   "nbconvert_exporter": "python",
   "pygments_lexer": "ipython3",
   "version": "3.7.7"
  }
 },
 "nbformat": 4,
 "nbformat_minor": 4
}
