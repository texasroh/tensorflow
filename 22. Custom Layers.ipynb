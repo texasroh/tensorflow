{
 "cells": [
  {
   "cell_type": "code",
   "execution_count": 1,
   "metadata": {},
   "outputs": [],
   "source": [
    "import tensorflow as tf"
   ]
  },
  {
   "cell_type": "code",
   "execution_count": 2,
   "metadata": {},
   "outputs": [
    {
     "name": "stdout",
     "output_type": "stream",
     "text": [
      "WARNING:tensorflow:From <ipython-input-2-ae932be897c3>:1: is_gpu_available (from tensorflow.python.framework.test_util) is deprecated and will be removed in a future version.\n",
      "Instructions for updating:\n",
      "Use `tf.config.list_physical_devices('GPU')` instead.\n",
      "False\n"
     ]
    }
   ],
   "source": [
    "print(tf.test.is_gpu_available())"
   ]
  },
  {
   "cell_type": "code",
   "execution_count": 3,
   "metadata": {},
   "outputs": [],
   "source": [
    "layer = tf.keras.layers.Dense(100)\n",
    "\n",
    "layer = tf.keras.layers.Dense(10, input_shape=(None, 5))"
   ]
  },
  {
   "cell_type": "code",
   "execution_count": 4,
   "metadata": {},
   "outputs": [
    {
     "data": {
      "text/plain": [
       "<tf.Tensor: shape=(10, 10), dtype=float32, numpy=\n",
       "array([[0., 0., 0., 0., 0., 0., 0., 0., 0., 0.],\n",
       "       [0., 0., 0., 0., 0., 0., 0., 0., 0., 0.],\n",
       "       [0., 0., 0., 0., 0., 0., 0., 0., 0., 0.],\n",
       "       [0., 0., 0., 0., 0., 0., 0., 0., 0., 0.],\n",
       "       [0., 0., 0., 0., 0., 0., 0., 0., 0., 0.],\n",
       "       [0., 0., 0., 0., 0., 0., 0., 0., 0., 0.],\n",
       "       [0., 0., 0., 0., 0., 0., 0., 0., 0., 0.],\n",
       "       [0., 0., 0., 0., 0., 0., 0., 0., 0., 0.],\n",
       "       [0., 0., 0., 0., 0., 0., 0., 0., 0., 0.],\n",
       "       [0., 0., 0., 0., 0., 0., 0., 0., 0., 0.]], dtype=float32)>"
      ]
     },
     "execution_count": 4,
     "metadata": {},
     "output_type": "execute_result"
    }
   ],
   "source": [
    "layer(tf.zeros([10,5]))"
   ]
  },
  {
   "cell_type": "code",
   "execution_count": 6,
   "metadata": {},
   "outputs": [
    {
     "data": {
      "text/plain": [
       "[<tf.Variable 'dense_1/kernel:0' shape=(5, 10) dtype=float32, numpy=\n",
       " array([[ 4.50877964e-01, -2.74376541e-01, -6.11831963e-01,\n",
       "         -3.61451089e-01, -3.17172766e-01,  5.46023667e-01,\n",
       "          2.07200885e-01,  2.25896597e-01,  5.26848257e-01,\n",
       "          4.60529983e-01],\n",
       "        [-2.90099174e-01,  5.27598917e-01, -1.23894215e-02,\n",
       "         -5.12286842e-01, -5.42813540e-03,  2.12301314e-01,\n",
       "         -6.27514601e-01, -5.06219685e-01, -4.62451160e-01,\n",
       "          2.51076877e-01],\n",
       "        [ 3.58500123e-01, -1.43210948e-01, -6.23328388e-01,\n",
       "         -2.61000633e-01, -2.82080799e-01, -3.74930739e-01,\n",
       "         -4.43706572e-01,  5.74269474e-01,  1.23732924e-01,\n",
       "          3.95411313e-01],\n",
       "        [ 5.65178096e-01, -2.03251839e-04, -5.72872698e-01,\n",
       "         -3.26553643e-01, -2.10733712e-01, -4.05252635e-01,\n",
       "         -3.91643465e-01,  5.87356150e-01, -5.59764147e-01,\n",
       "          3.64916980e-01],\n",
       "        [-3.78797710e-01,  1.00494027e-01, -3.34681779e-01,\n",
       "          6.01970017e-01, -4.70101595e-01, -3.15509707e-01,\n",
       "          5.18962681e-01, -5.23920238e-01, -3.19472581e-01,\n",
       "          1.45828485e-01]], dtype=float32)>,\n",
       " <tf.Variable 'dense_1/bias:0' shape=(10,) dtype=float32, numpy=array([0., 0., 0., 0., 0., 0., 0., 0., 0., 0.], dtype=float32)>]"
      ]
     },
     "execution_count": 6,
     "metadata": {},
     "output_type": "execute_result"
    }
   ],
   "source": [
    "layer.variables"
   ]
  },
  {
   "cell_type": "code",
   "execution_count": 7,
   "metadata": {},
   "outputs": [
    {
     "data": {
      "text/plain": [
       "[<tf.Variable 'dense_1/kernel:0' shape=(5, 10) dtype=float32, numpy=\n",
       " array([[ 4.50877964e-01, -2.74376541e-01, -6.11831963e-01,\n",
       "         -3.61451089e-01, -3.17172766e-01,  5.46023667e-01,\n",
       "          2.07200885e-01,  2.25896597e-01,  5.26848257e-01,\n",
       "          4.60529983e-01],\n",
       "        [-2.90099174e-01,  5.27598917e-01, -1.23894215e-02,\n",
       "         -5.12286842e-01, -5.42813540e-03,  2.12301314e-01,\n",
       "         -6.27514601e-01, -5.06219685e-01, -4.62451160e-01,\n",
       "          2.51076877e-01],\n",
       "        [ 3.58500123e-01, -1.43210948e-01, -6.23328388e-01,\n",
       "         -2.61000633e-01, -2.82080799e-01, -3.74930739e-01,\n",
       "         -4.43706572e-01,  5.74269474e-01,  1.23732924e-01,\n",
       "          3.95411313e-01],\n",
       "        [ 5.65178096e-01, -2.03251839e-04, -5.72872698e-01,\n",
       "         -3.26553643e-01, -2.10733712e-01, -4.05252635e-01,\n",
       "         -3.91643465e-01,  5.87356150e-01, -5.59764147e-01,\n",
       "          3.64916980e-01],\n",
       "        [-3.78797710e-01,  1.00494027e-01, -3.34681779e-01,\n",
       "          6.01970017e-01, -4.70101595e-01, -3.15509707e-01,\n",
       "          5.18962681e-01, -5.23920238e-01, -3.19472581e-01,\n",
       "          1.45828485e-01]], dtype=float32)>,\n",
       " <tf.Variable 'dense_1/bias:0' shape=(10,) dtype=float32, numpy=array([0., 0., 0., 0., 0., 0., 0., 0., 0., 0.], dtype=float32)>]"
      ]
     },
     "execution_count": 7,
     "metadata": {},
     "output_type": "execute_result"
    }
   ],
   "source": [
    "layer.trainable_variables"
   ]
  },
  {
   "cell_type": "code",
   "execution_count": 8,
   "metadata": {},
   "outputs": [
    {
     "data": {
      "text/plain": [
       "(<tf.Variable 'dense_1/kernel:0' shape=(5, 10) dtype=float32, numpy=\n",
       " array([[ 4.50877964e-01, -2.74376541e-01, -6.11831963e-01,\n",
       "         -3.61451089e-01, -3.17172766e-01,  5.46023667e-01,\n",
       "          2.07200885e-01,  2.25896597e-01,  5.26848257e-01,\n",
       "          4.60529983e-01],\n",
       "        [-2.90099174e-01,  5.27598917e-01, -1.23894215e-02,\n",
       "         -5.12286842e-01, -5.42813540e-03,  2.12301314e-01,\n",
       "         -6.27514601e-01, -5.06219685e-01, -4.62451160e-01,\n",
       "          2.51076877e-01],\n",
       "        [ 3.58500123e-01, -1.43210948e-01, -6.23328388e-01,\n",
       "         -2.61000633e-01, -2.82080799e-01, -3.74930739e-01,\n",
       "         -4.43706572e-01,  5.74269474e-01,  1.23732924e-01,\n",
       "          3.95411313e-01],\n",
       "        [ 5.65178096e-01, -2.03251839e-04, -5.72872698e-01,\n",
       "         -3.26553643e-01, -2.10733712e-01, -4.05252635e-01,\n",
       "         -3.91643465e-01,  5.87356150e-01, -5.59764147e-01,\n",
       "          3.64916980e-01],\n",
       "        [-3.78797710e-01,  1.00494027e-01, -3.34681779e-01,\n",
       "          6.01970017e-01, -4.70101595e-01, -3.15509707e-01,\n",
       "          5.18962681e-01, -5.23920238e-01, -3.19472581e-01,\n",
       "          1.45828485e-01]], dtype=float32)>,\n",
       " <tf.Variable 'dense_1/bias:0' shape=(10,) dtype=float32, numpy=array([0., 0., 0., 0., 0., 0., 0., 0., 0., 0.], dtype=float32)>)"
      ]
     },
     "execution_count": 8,
     "metadata": {},
     "output_type": "execute_result"
    }
   ],
   "source": [
    "layer.kernel, layer.bias"
   ]
  },
  {
   "cell_type": "code",
   "execution_count": 10,
   "metadata": {},
   "outputs": [
    {
     "name": "stdout",
     "output_type": "stream",
     "text": [
      "WARNING:tensorflow:From <ipython-input-10-d3744d4c416e>:9: Layer.add_variable (from tensorflow.python.keras.engine.base_layer) is deprecated and will be removed in a future version.\n",
      "Instructions for updating:\n",
      "Please use `layer.add_weight` method instead.\n",
      "tf.Tensor(\n",
      "[[0. 0. 0. 0. 0. 0. 0. 0. 0. 0.]\n",
      " [0. 0. 0. 0. 0. 0. 0. 0. 0. 0.]\n",
      " [0. 0. 0. 0. 0. 0. 0. 0. 0. 0.]\n",
      " [0. 0. 0. 0. 0. 0. 0. 0. 0. 0.]\n",
      " [0. 0. 0. 0. 0. 0. 0. 0. 0. 0.]\n",
      " [0. 0. 0. 0. 0. 0. 0. 0. 0. 0.]\n",
      " [0. 0. 0. 0. 0. 0. 0. 0. 0. 0.]\n",
      " [0. 0. 0. 0. 0. 0. 0. 0. 0. 0.]\n",
      " [0. 0. 0. 0. 0. 0. 0. 0. 0. 0.]\n",
      " [0. 0. 0. 0. 0. 0. 0. 0. 0. 0.]], shape=(10, 10), dtype=float32)\n",
      "[<tf.Variable 'my_dense_layer/kernel:0' shape=(5, 10) dtype=float32, numpy=\n",
      "array([[ 0.51871115, -0.15961558,  0.4267171 ,  0.01761431,  0.05758756,\n",
      "         0.19955665,  0.04656911,  0.38953024,  0.5166306 ,  0.37605232],\n",
      "       [-0.24551806,  0.04783213, -0.40333942, -0.18338057,  0.20801377,\n",
      "        -0.05494499, -0.11011755,  0.04178309, -0.53246737, -0.34355965],\n",
      "       [ 0.6217976 , -0.18428513,  0.14614546, -0.10653406,  0.1261009 ,\n",
      "        -0.46786872, -0.38907504, -0.43426085,  0.17645031, -0.38393947],\n",
      "       [ 0.15363425,  0.0146243 , -0.45527208,  0.3744679 ,  0.24996454,\n",
      "         0.60244006,  0.46301073,  0.29320014,  0.6160309 , -0.49965462],\n",
      "       [-0.6246154 ,  0.55529517,  0.10282028, -0.19936028, -0.06127107,\n",
      "        -0.27747148, -0.40978384, -0.12819779,  0.54260737,  0.49849194]],\n",
      "      dtype=float32)>]\n"
     ]
    }
   ],
   "source": [
    "class MyDenseLayer(tf.keras.layers.Layer):\n",
    "    def __init__(self, num_outputs):\n",
    "        super(MyDenseLayer, self).__init__()\n",
    "        self.num_outputs = num_outputs\n",
    "        \n",
    "    def build(self, input_shape):\n",
    "        self.kernel = self.add_variable('kernel',\n",
    "                                       shape=[int(input_shape[-1]),\n",
    "                                              self.num_outputs])\n",
    "    \n",
    "    def call(self, input):\n",
    "        return tf.matmul(input, self.kernel)\n",
    "    \n",
    "layer = MyDenseLayer(10)\n",
    "print(layer(tf.zeros([10,5])))\n",
    "print(layer.trainable_variables)"
   ]
  },
  {
   "cell_type": "code",
   "execution_count": null,
   "metadata": {},
   "outputs": [],
   "source": []
  },
  {
   "cell_type": "code",
   "execution_count": null,
   "metadata": {},
   "outputs": [],
   "source": []
  },
  {
   "cell_type": "code",
   "execution_count": 11,
   "metadata": {},
   "outputs": [
    {
     "name": "stdout",
     "output_type": "stream",
     "text": [
      "tf.Tensor(\n",
      "[[[[0. 0. 0.]\n",
      "   [0. 0. 0.]\n",
      "   [0. 0. 0.]]\n",
      "\n",
      "  [[0. 0. 0.]\n",
      "   [0. 0. 0.]\n",
      "   [0. 0. 0.]]]], shape=(1, 2, 3, 3), dtype=float32)\n",
      "['resnet_identity_block/conv2d/kernel:0', 'resnet_identity_block/conv2d/bias:0', 'resnet_identity_block/batch_normalization/gamma:0', 'resnet_identity_block/batch_normalization/beta:0', 'resnet_identity_block/conv2d_1/kernel:0', 'resnet_identity_block/conv2d_1/bias:0', 'resnet_identity_block/batch_normalization_1/gamma:0', 'resnet_identity_block/batch_normalization_1/beta:0', 'resnet_identity_block/conv2d_2/kernel:0', 'resnet_identity_block/conv2d_2/bias:0', 'resnet_identity_block/batch_normalization_2/gamma:0', 'resnet_identity_block/batch_normalization_2/beta:0']\n"
     ]
    }
   ],
   "source": [
    "class ResnetIdentityBlock(tf.keras.Model):\n",
    "    def __init__(self, kernel_size, filters):\n",
    "        super(ResnetIdentityBlock, self).__init__(name='')\n",
    "        filters1, filters2, filters3 = filters\n",
    "        \n",
    "        self.conv2a = tf.keras.layers.Conv2D(filters1, (1,1))\n",
    "        self.bn2a = tf.keras.layers.BatchNormalization()\n",
    "        \n",
    "        self.conv2b = tf.keras.layers.Conv2D(filters2, kernel_size, padding='same')\n",
    "        self.bn2b = tf.keras.layers.BatchNormalization()\n",
    "        \n",
    "        self.conv2c = tf.keras.layers.Conv2D(filters3, (1,1))\n",
    "        self.bn2c = tf.keras.layers.BatchNormalization()\n",
    "        \n",
    "    def call(self, input_tensor, training=False):\n",
    "        x = self.conv2a(input_tensor)\n",
    "        x = self.bn2a(x, training = training)\n",
    "        x = tf.nn.relu(x)\n",
    "        \n",
    "        x = self.conv2b(x)\n",
    "        x = self.bn2b(x, training = training)\n",
    "        x = tf.nn.relu(x)\n",
    "        \n",
    "        x = self.conv2c(x)\n",
    "        x = self.bn2c(x, training = training)\n",
    "        \n",
    "        x += input_tensor\n",
    "        return tf.nn.relu(x)\n",
    "    \n",
    "block = ResnetIdentityBlock(1, [1,2,3])\n",
    "print(block(tf.zeros([1,2,3,3])))\n",
    "print([x.name for x in block.trainable_variables])"
   ]
  },
  {
   "cell_type": "code",
   "execution_count": 13,
   "metadata": {},
   "outputs": [
    {
     "data": {
      "text/plain": [
       "<tf.Tensor: shape=(1, 2, 3, 3), dtype=float32, numpy=\n",
       "array([[[[0., 0., 0.],\n",
       "         [0., 0., 0.],\n",
       "         [0., 0., 0.]],\n",
       "\n",
       "        [[0., 0., 0.],\n",
       "         [0., 0., 0.],\n",
       "         [0., 0., 0.]]]], dtype=float32)>"
      ]
     },
     "execution_count": 13,
     "metadata": {},
     "output_type": "execute_result"
    }
   ],
   "source": [
    "my_seq = tf.keras.Sequential([\n",
    "    tf.keras.layers.Conv2D(1, (1,1), input_shape=(None, None, 3)),\n",
    "    tf.keras.layers.BatchNormalization(),\n",
    "    tf.keras.layers.Conv2D(2, 1, padding='same'),\n",
    "    tf.keras.layers.BatchNormalization(),\n",
    "    tf.keras.layers.Conv2D(3, (1,1)),\n",
    "    tf.keras.layers.BatchNormalization()\n",
    "])\n",
    "my_seq(tf.zeros([1,2,3,3]))"
   ]
  },
  {
   "cell_type": "code",
   "execution_count": null,
   "metadata": {},
   "outputs": [],
   "source": []
  }
 ],
 "metadata": {
  "kernelspec": {
   "display_name": "Python 3",
   "language": "python",
   "name": "python3"
  },
  "language_info": {
   "codemirror_mode": {
    "name": "ipython",
    "version": 3
   },
   "file_extension": ".py",
   "mimetype": "text/x-python",
   "name": "python",
   "nbconvert_exporter": "python",
   "pygments_lexer": "ipython3",
   "version": "3.7.8"
  }
 },
 "nbformat": 4,
 "nbformat_minor": 4
}
